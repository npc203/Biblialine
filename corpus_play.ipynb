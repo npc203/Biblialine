{
 "cells": [
  {
   "cell_type": "code",
   "execution_count": 1,
   "metadata": {},
   "outputs": [],
   "source": [
    "OT = [\n",
    "    \"Genesis\",\n",
    "    \"Exodus\",\n",
    "    \"Leviticus\",\n",
    "    \"Numbers\",\n",
    "    \"Deuteronomy\",\n",
    "    \"Joshua\",\n",
    "    \"Judges\",\n",
    "    \"Ruth\",\n",
    "    \"1 Samuel\",\n",
    "    \"2 Samuel\",\n",
    "    \"1 Kings\",\n",
    "    \"2 Kings\",\n",
    "    \"1 Chronicles\",\n",
    "    \"2 Chronicles\",\n",
    "    \"Ezra\",\n",
    "    \"Nehemiah\",\n",
    "    \"Esther\",\n",
    "    \"Job\",\n",
    "    \"Psalms\",\n",
    "    \"Proverbs\",\n",
    "    \"Ecclesiastes\",\n",
    "    \"Song of Solomon\",\n",
    "    \"Isaiah\",\n",
    "    \"Jeremiah\",\n",
    "    \"Lamentations\",\n",
    "    \"Ezekiel\",\n",
    "    \"Daniel\",\n",
    "    \"Hosea\",\n",
    "    \"Joel\",\n",
    "    \"Amos\",\n",
    "    \"Obadiah\",\n",
    "    \"Jonah\",\n",
    "    \"Micah\",\n",
    "    \"Nahum\",\n",
    "    \"Habakkuk\",\n",
    "    \"Zephaniah\",\n",
    "    \"Haggai\",\n",
    "    \"Zechariah\",\n",
    "    \"Malachi\",\n",
    "]\n",
    "\n",
    "NT = [\n",
    "    \"Matthew\",\n",
    "    \"Mark\",\n",
    "    \"Luke\",\n",
    "    \"John\",\n",
    "    \"Acts\",\n",
    "    \"Romans\",\n",
    "    \"1 Corinthians\",\n",
    "    \"2 Corinthians\",\n",
    "    \"Galatians\",\n",
    "    \"Ephesians\",\n",
    "    \"Philippians\",\n",
    "    \"Colossians\",\n",
    "    \"1 Thessalonians\",\n",
    "    \"2 Thessalonians\",\n",
    "    \"1 Timothy\",\n",
    "    \"2 Timothy\",\n",
    "    \"Titus\",\n",
    "    \"Philemon\",\n",
    "    \"Hebrews\",\n",
    "    \"James\",\n",
    "    \"1 Peter\",\n",
    "    \"2 Peter\",\n",
    "    \"1 John\",\n",
    "    \"2 John\",\n",
    "    \"3 John\",\n",
    "    \"Jude\",\n",
    "    \"Revelation\",\n",
    "]\n",
    "\n",
    "bible_books_in_order = OT + NT\n"
   ]
  },
  {
   "cell_type": "code",
   "execution_count": 2,
   "metadata": {},
   "outputs": [],
   "source": [
    "from collections import defaultdict\n",
    "import json\n",
    "from collections import defaultdict, Counter\n",
    "\n",
    "with open(\"corpus.json\", \"r\") as f:\n",
    "    corpus = json.load(f)\n",
    "\n",
    "# Remove junk\n",
    "junk = [\"''\",\"``\",\"'s\"]\n",
    "for item in junk:\n",
    "    corpus.pop(item)"
   ]
  },
  {
   "cell_type": "code",
   "execution_count": 3,
   "metadata": {},
   "outputs": [
    {
     "data": {
      "text/html": [
       "        <script type=\"text/javascript\">\n",
       "        window.PlotlyConfig = {MathJaxConfig: 'local'};\n",
       "        if (window.MathJax && window.MathJax.Hub && window.MathJax.Hub.Config) {window.MathJax.Hub.Config({SVG: {font: \"STIX-Web\"}});}\n",
       "        if (typeof require !== 'undefined') {\n",
       "        require.undef(\"plotly\");\n",
       "        requirejs.config({\n",
       "            paths: {\n",
       "                'plotly': ['https://cdn.plot.ly/plotly-2.12.1.min']\n",
       "            }\n",
       "        });\n",
       "        require(['plotly'], function(Plotly) {\n",
       "            window._Plotly = Plotly;\n",
       "        });\n",
       "        }\n",
       "        </script>\n",
       "        "
      ]
     },
     "metadata": {},
     "output_type": "display_data"
    }
   ],
   "source": [
    "import plotly.express as px\n",
    "from plotly.subplots import make_subplots\n",
    "import plotly.graph_objects as go\n",
    "import plotly.io as pio\n",
    "from plotly.offline import init_notebook_mode,iplot\n",
    "pio.renderers.default = \"notebook\"\n",
    "init_notebook_mode(connected=True) "
   ]
  },
  {
   "cell_type": "code",
   "execution_count": 4,
   "metadata": {},
   "outputs": [],
   "source": [
    "def get_common_words(books):\n",
    "    smol_stats = defaultdict(int)\n",
    "    for word, refs in corpus.items():\n",
    "        new_refs = []\n",
    "        for ref in refs:\n",
    "            if ref[0] in books:\n",
    "                new_refs.append(ref)\n",
    "        if new_refs:\n",
    "            smol_stats[word]+=len(new_refs)\n",
    "\n",
    "    return Counter(smol_stats)"
   ]
  },
  {
   "cell_type": "code",
   "execution_count": 5,
   "metadata": {},
   "outputs": [
    {
     "name": "stdout",
     "output_type": "stream",
     "text": [
      "Number of unique words per book:\n",
      "[('Psalms', 17900), ('Jeremiah', 16633), ('Genesis', 15744), ('Ezekiel', 15383), ('Isaiah', 15067), ('Numbers', 13152), ('Exodus', 12861), ('2 Chronicles', 10981), ('Deuteronomy', 10594), ('Luke', 10333), ('Acts', 10293), ('1 Kings', 10099), ('1 Samuel', 9954), ('2 Kings', 9770), ('Matthew', 9728), ('Leviticus', 9654), ('1 Chronicles', 9217), ('2 Samuel', 8681), ('John', 7610), ('Job', 7420), ('Joshua', 7391), ('Judges', 7376), ('Proverbs', 6751), ('Mark', 6176), ('Revelation', 5024), ('Daniel', 4688), ('Nehemiah', 4423), ('Romans', 4076), ('1 Corinthians', 3858), ('Hebrews', 3074), ('Ezra', 2996), ('2 Corinthians', 2463), ('Zechariah', 2401), ('Esther', 2382), ('Ecclesiastes', 2226), ('Hosea', 2115), ('Amos', 1741), ('Lamentations', 1431), ('Galatians', 1346), ('Ephesians', 1336), ('Micah', 1249), ('Song of Solomon', 1178), ('1 Timothy', 1107), ('1 Peter', 1064), ('James', 1031), ('Ruth', 1021), ('1 John', 1004), ('Philippians', 920), ('Colossians', 873), ('Joel', 857), ('1 Thessalonians', 791), ('2 Timothy', 771), ('Malachi', 713), ('2 Peter', 704), ('Zephaniah', 653), ('Habakkuk', 603), ('Nahum', 542), ('Jonah', 525), ('Haggai', 491), ('Titus', 457), ('2 Thessalonians', 439), ('Jude', 300), ('Obadiah', 241), ('Philemon', 188), ('3 John', 134), ('2 John', 120)]\n"
     ]
    }
   ],
   "source": [
    "book_word_variance = defaultdict(lambda:defaultdict(int)) # {\"Genesis\":{\"beginning\":30,..},\"Exodus\":{...}...}\n",
    "for word, refs in corpus.items():\n",
    "    for ref in refs:\n",
    "        book_word_variance[ref[0]][word]+=1\n",
    "\n",
    "unique_word_count = {i:sum(c for c in j.values()) for i,j in book_word_variance.items()} # {\"Genesis\": total_word_count ,\"Exodus\": 3000}\n",
    "\n",
    "print(\"Number of unique words per book:\")\n",
    "unique_words_per_book = Counter(unique_word_count).most_common()\n",
    "print(unique_words_per_book)"
   ]
  },
  {
   "cell_type": "code",
   "execution_count": 6,
   "metadata": {},
   "outputs": [
    {
     "name": "stdout",
     "output_type": "stream",
     "text": [
      "Most Common words in the bible:\n",
      "[('lord', 7788), ('god', 4160), ('said', 3184), ('king', 2503), ('one', 2478), ('son', 2338), ('people', 2214), ('man', 2209), ('israel', 1858), ('men', 1805), ('like', 1528), ('land', 1451), ('come', 1435), ('us', 1422), ('day', 1419), ('go', 1392), ('jesus', 1274), ('went', 1231), ('father', 1220), ('may', 1219), ('came', 1191), ('made', 1109), ('let', 1071), ('put', 1018), ('david', 1007), ('house', 965), ('say', 916), ('give', 896), ('sons', 865), ('make', 852), ('know', 850), ('take', 847), ('moses', 843), ('hand', 840), ('judah', 834), ('among', 811), ('also', 809), ('see', 804), ('jerusalem', 799), ('away', 797), ('place', 792), ('must', 785), ('time', 768), ('brought', 763), ('name', 762), ('earth', 734), ('says', 727), ('bring', 723), ('city', 710), ('great', 698)]\n",
      "\n",
      "Most Common words in the gospels:\n",
      "[('jesus', 912), ('said', 687), ('one', 465), ('man', 433), ('son', 318), ('god', 310), ('father', 293), ('came', 269), ('went', 258), ('come', 246), ('disciples', 240), ('tell', 220), ('asked', 217), ('people', 200), ('go', 183), ('lord', 180), ('see', 172), ('replied', 155), ('say', 152), ('know', 149), ('saw', 140), ('away', 136), ('time', 134), ('things', 133), ('heaven', 131), ('men', 129), ('us', 128), ('sent', 128), ('many', 128), ('answered', 125), ('give', 124), ('told', 123), ('john', 122), ('day', 121), (\"n't\", 121), ('kingdom', 120), ('put', 109), ('truth', 108), ('house', 105), ('going', 104), ('good', 103), ('--', 103), ('life', 102), ('heard', 101), ('two', 100), ('also', 100), ('law', 100), ('crowd', 100), ('peter', 100), ('called', 98)]\n",
      "\n",
      "Most Common words in the OT:\n",
      "[('lord', 7147), ('god', 2757), ('king', 2411), ('said', 2292), ('son', 1919), ('people', 1814), ('israel', 1788), ('one', 1609), ('man', 1504), ('men', 1430), ('land', 1411), ('like', 1268), ('day', 1156), ('go', 1129), ('come', 997), ('david', 948), ('us', 941), ('made', 910), ('may', 907), ('went', 875), ('let', 857), ('sons', 824), ('judah', 824), ('father', 817), ('put', 809), ('house', 806), ('came', 805), ('moses', 758), ('make', 713), ('hand', 712), ('give', 685), ('take', 684), ('offering', 673), ('say', 666), ('jerusalem', 657), ('brought', 649), ('place', 641), ('among', 641), ('bring', 635), ('says', 629), ('must', 626), ('city', 605), ('israelites', 598), ('name', 593), ('away', 590), ('earth', 577), ('egypt', 576), ('temple', 554), ('set', 536), ('took', 533)]\n",
      "\n",
      "Most Common words in the NT:\n",
      "[('god', 1403), ('jesus', 1274), ('said', 892), ('one', 869), ('man', 705), ('lord', 641), ('christ', 539), ('us', 481), ('come', 438), ('son', 419), ('father', 403), ('people', 400), ('--', 394), ('came', 386), ('men', 375), ('know', 364), ('went', 356), ('spirit', 340), ('may', 312), ('see', 294), ('also', 288), ('things', 276), ('law', 273), ('disciples', 266), ('day', 263), ('go', 263), ('like', 260), ('asked', 260), ('time', 257), ('faith', 254), ('tell', 253), ('say', 250), ('good', 248), ('life', 235), ('heaven', 235), ('heard', 232), ('many', 229), ('saw', 226), ('love', 225), ('brothers', 223), ('even', 221), ('way', 218), ('let', 214), ('give', 211), ('anyone', 210), ('put', 209), ('paul', 209), ('called', 208), ('world', 208), ('away', 207)]\n"
     ]
    }
   ],
   "source": [
    "print(\"Most Common words in the bible:\") \n",
    "print(get_common_words(bible_books_in_order).most_common(50))\n",
    "\n",
    "gospels = [\"Matthew\",\"Mark\",\"Luke\",\"John\"]\n",
    "print(\"\\nMost Common words in the gospels:\") \n",
    "print(get_common_words(gospels).most_common(50))\n",
    "\n",
    "print(\"\\nMost Common words in the OT:\") \n",
    "print(get_common_words(OT).most_common(50))\n",
    "\n",
    "print(\"\\nMost Common words in the NT:\") \n",
    "print(get_common_words(NT).most_common(50))"
   ]
  },
  {
   "cell_type": "code",
   "execution_count": 15,
   "metadata": {},
   "outputs": [
    {
     "data": {
      "text/plain": [
       "[('jesus', 202),\n",
       " ('said', 125),\n",
       " ('man', 89),\n",
       " ('one', 73),\n",
       " ('disciples', 59),\n",
       " ('came', 58),\n",
       " ('went', 58),\n",
       " ('god', 52),\n",
       " ('asked', 50),\n",
       " ('people', 45)]"
      ]
     },
     "execution_count": 15,
     "metadata": {},
     "output_type": "execute_result"
    }
   ],
   "source": [
    "# Get common words of any books lul\n",
    "get_common_words([\"Mark\"]).most_common(10)"
   ]
  },
  {
   "cell_type": "code",
   "execution_count": 7,
   "metadata": {},
   "outputs": [],
   "source": [
    "HOVER_TEMPLATE = \"Book: %{customdata[0]}<br>Word Count: %{customdata[1]}<br>Percentage: %{y}%\"\n",
    "\n",
    "def plot_word(main_word, filter_books=[], show_percent=False):\n",
    "    stats = defaultdict(int)\n",
    "    for ref in corpus[main_word]:\n",
    "        if filter_books:\n",
    "            if ref[0] in filter_books:\n",
    "                stats[ref[0]] += 1\n",
    "        else:\n",
    "            stats[ref[0]] += 1\n",
    "\n",
    "    # expanded = [(book, count), (book, count), ...]\n",
    "    expanded = list(stats.items())\n",
    "    custom_data = expanded.copy()\n",
    "    if show_percent:\n",
    "        expanded = [(i, j / unique_word_count[i] * 100) for i, j in stats.items()]\n",
    "        \n",
    "    x, y = zip(*expanded)\n",
    "    bar = go.Bar(x=x, y=y,customdata=custom_data,hovertemplate=HOVER_TEMPLATE)\n",
    "    return bar\n",
    "\n",
    "\n",
    "def plot_words(words, filter_books=[], show_percent=False):\n",
    "    fig = make_subplots(rows=len(words), cols=1, shared_xaxes=True, subplot_titles=tuple(map(lambda x:\"Word: \"+x,words)))\n",
    "    for row, main_word in enumerate(words):\n",
    "        fig.add_trace(plot_word(main_word, filter_books, show_percent), row=row + 1, col=1)\n",
    "\n",
    "    fig.update_layout(\n",
    "        height=len(words) * 250,\n",
    "        title_text=\"Word Frequency\",\n",
    "        showlegend=False,\n",
    "        yaxis_title=\"Percentage\" if show_percent else \"Word Count\",\n",
    "        xaxis_title=\"Books\",\n",
    "    )\n",
    "    fig.update_xaxes(categoryorder=\"array\", categoryarray=bible_books_in_order)\n",
    "    return fig\n"
   ]
  },
  {
   "cell_type": "code",
   "execution_count": 30,
   "metadata": {},
   "outputs": [
    {
     "name": "stdout",
     "output_type": "stream",
     "text": [
      "53 53\n"
     ]
    },
    {
     "data": {
      "application/vnd.plotly.v1+json": {
       "config": {
        "plotlyServerURL": "https://plot.ly"
       },
       "data": [
        {
         "customdata": [
          [
           "Genesis",
           241
          ],
          [
           "Exodus",
           11
          ],
          [
           "Leviticus",
           23
          ],
          [
           "Numbers",
           22
          ],
          [
           "Deuteronomy",
           22
          ],
          [
           "Joshua",
           8
          ],
          [
           "Judges",
           36
          ],
          [
           "Ruth",
           12
          ],
          [
           "1 Samuel",
           48
          ],
          [
           "2 Samuel",
           23
          ],
          [
           "1 Kings",
           62
          ],
          [
           "2 Kings",
           33
          ],
          [
           "1 Chronicles",
           133
          ],
          [
           "2 Chronicles",
           54
          ],
          [
           "Nehemiah",
           6
          ],
          [
           "Esther",
           3
          ],
          [
           "Job",
           6
          ],
          [
           "Psalms",
           6
          ],
          [
           "Proverbs",
           22
          ],
          [
           "Isaiah",
           14
          ],
          [
           "Jeremiah",
           7
          ],
          [
           "Ezekiel",
           13
          ],
          [
           "Daniel",
           6
          ],
          [
           "Amos",
           1
          ],
          [
           "Micah",
           1
          ],
          [
           "Zechariah",
           1
          ],
          [
           "Malachi",
           3
          ],
          [
           "Matthew",
           100
          ],
          [
           "Mark",
           18
          ],
          [
           "Luke",
           45
          ],
          [
           "John",
           130
          ],
          [
           "Acts",
           15
          ],
          [
           "Romans",
           13
          ],
          [
           "1 Corinthians",
           5
          ],
          [
           "2 Corinthians",
           5
          ],
          [
           "Galatians",
           5
          ],
          [
           "Ephesians",
           10
          ],
          [
           "Philippians",
           4
          ],
          [
           "Colossians",
           4
          ],
          [
           "1 Thessalonians",
           5
          ],
          [
           "2 Thessalonians",
           3
          ],
          [
           "1 Timothy",
           2
          ],
          [
           "2 Timothy",
           1
          ],
          [
           "Titus",
           1
          ],
          [
           "Philemon",
           1
          ],
          [
           "Hebrews",
           6
          ],
          [
           "James",
           3
          ],
          [
           "1 Peter",
           3
          ],
          [
           "2 Peter",
           1
          ],
          [
           "1 John",
           13
          ],
          [
           "2 John",
           4
          ],
          [
           "Jude",
           1
          ],
          [
           "Revelation",
           5
          ]
         ],
         "hovertemplate": "Book: %{customdata[0]}<br>Word Count: %{customdata[1]}<br>Percentage: %{y}%",
         "type": "bar",
         "x": [
          "Genesis",
          "Exodus",
          "Leviticus",
          "Numbers",
          "Deuteronomy",
          "Joshua",
          "Judges",
          "Ruth",
          "1 Samuel",
          "2 Samuel",
          "1 Kings",
          "2 Kings",
          "1 Chronicles",
          "2 Chronicles",
          "Nehemiah",
          "Esther",
          "Job",
          "Psalms",
          "Proverbs",
          "Isaiah",
          "Jeremiah",
          "Ezekiel",
          "Daniel",
          "Amos",
          "Micah",
          "Zechariah",
          "Malachi",
          "Matthew",
          "Mark",
          "Luke",
          "John",
          "Acts",
          "Romans",
          "1 Corinthians",
          "2 Corinthians",
          "Galatians",
          "Ephesians",
          "Philippians",
          "Colossians",
          "1 Thessalonians",
          "2 Thessalonians",
          "1 Timothy",
          "2 Timothy",
          "Titus",
          "Philemon",
          "Hebrews",
          "James",
          "1 Peter",
          "2 Peter",
          "1 John",
          "2 John",
          "Jude",
          "Revelation"
         ],
         "y": [
          1.5307418699186992,
          0.08552989658657958,
          0.23824321524756578,
          0.16727493917274938,
          0.20766471587691146,
          0.10823975104857259,
          0.4880694143167028,
          1.1753183153770812,
          0.48221820373719104,
          0.26494643474254115,
          0.6139221705119319,
          0.33776867963152507,
          1.4429857871324727,
          0.4917584919406247,
          0.13565453312231518,
          0.12594458438287154,
          0.08086253369272238,
          0.0335195530726257,
          0.325877647755888,
          0.09291829826773744,
          0.042085011723681835,
          0.08450887343171033,
          0.12798634812286688,
          0.05743825387708214,
          0.08006405124099279,
          0.04164931278633903,
          0.42075736325385693,
          1.0279605263157896,
          0.2914507772020725,
          0.4354979192877189,
          1.7082785808147174,
          0.1457301078402798,
          0.31894013738959764,
          0.12960082944530846,
          0.20300446609825418,
          0.3714710252600297,
          0.7485029940119761,
          0.43478260869565216,
          0.45819014891179843,
          0.6321112515802781,
          0.683371298405467,
          0.18066847335140018,
          0.12970168612191957,
          0.2188183807439825,
          0.5319148936170213,
          0.1951854261548471,
          0.2909796314258002,
          0.28195488721804507,
          0.14204545454545456,
          1.294820717131474,
          3.3333333333333335,
          0.33333333333333337,
          0.09952229299363058
         ]
        }
       ],
       "layout": {
        "showlegend": false,
        "template": {
         "data": {
          "bar": [
           {
            "error_x": {
             "color": "#2a3f5f"
            },
            "error_y": {
             "color": "#2a3f5f"
            },
            "marker": {
             "line": {
              "color": "#E5ECF6",
              "width": 0.5
             },
             "pattern": {
              "fillmode": "overlay",
              "size": 10,
              "solidity": 0.2
             }
            },
            "type": "bar"
           }
          ],
          "barpolar": [
           {
            "marker": {
             "line": {
              "color": "#E5ECF6",
              "width": 0.5
             },
             "pattern": {
              "fillmode": "overlay",
              "size": 10,
              "solidity": 0.2
             }
            },
            "type": "barpolar"
           }
          ],
          "carpet": [
           {
            "aaxis": {
             "endlinecolor": "#2a3f5f",
             "gridcolor": "white",
             "linecolor": "white",
             "minorgridcolor": "white",
             "startlinecolor": "#2a3f5f"
            },
            "baxis": {
             "endlinecolor": "#2a3f5f",
             "gridcolor": "white",
             "linecolor": "white",
             "minorgridcolor": "white",
             "startlinecolor": "#2a3f5f"
            },
            "type": "carpet"
           }
          ],
          "choropleth": [
           {
            "colorbar": {
             "outlinewidth": 0,
             "ticks": ""
            },
            "type": "choropleth"
           }
          ],
          "contour": [
           {
            "colorbar": {
             "outlinewidth": 0,
             "ticks": ""
            },
            "colorscale": [
             [
              0,
              "#0d0887"
             ],
             [
              0.1111111111111111,
              "#46039f"
             ],
             [
              0.2222222222222222,
              "#7201a8"
             ],
             [
              0.3333333333333333,
              "#9c179e"
             ],
             [
              0.4444444444444444,
              "#bd3786"
             ],
             [
              0.5555555555555556,
              "#d8576b"
             ],
             [
              0.6666666666666666,
              "#ed7953"
             ],
             [
              0.7777777777777778,
              "#fb9f3a"
             ],
             [
              0.8888888888888888,
              "#fdca26"
             ],
             [
              1,
              "#f0f921"
             ]
            ],
            "type": "contour"
           }
          ],
          "contourcarpet": [
           {
            "colorbar": {
             "outlinewidth": 0,
             "ticks": ""
            },
            "type": "contourcarpet"
           }
          ],
          "heatmap": [
           {
            "colorbar": {
             "outlinewidth": 0,
             "ticks": ""
            },
            "colorscale": [
             [
              0,
              "#0d0887"
             ],
             [
              0.1111111111111111,
              "#46039f"
             ],
             [
              0.2222222222222222,
              "#7201a8"
             ],
             [
              0.3333333333333333,
              "#9c179e"
             ],
             [
              0.4444444444444444,
              "#bd3786"
             ],
             [
              0.5555555555555556,
              "#d8576b"
             ],
             [
              0.6666666666666666,
              "#ed7953"
             ],
             [
              0.7777777777777778,
              "#fb9f3a"
             ],
             [
              0.8888888888888888,
              "#fdca26"
             ],
             [
              1,
              "#f0f921"
             ]
            ],
            "type": "heatmap"
           }
          ],
          "heatmapgl": [
           {
            "colorbar": {
             "outlinewidth": 0,
             "ticks": ""
            },
            "colorscale": [
             [
              0,
              "#0d0887"
             ],
             [
              0.1111111111111111,
              "#46039f"
             ],
             [
              0.2222222222222222,
              "#7201a8"
             ],
             [
              0.3333333333333333,
              "#9c179e"
             ],
             [
              0.4444444444444444,
              "#bd3786"
             ],
             [
              0.5555555555555556,
              "#d8576b"
             ],
             [
              0.6666666666666666,
              "#ed7953"
             ],
             [
              0.7777777777777778,
              "#fb9f3a"
             ],
             [
              0.8888888888888888,
              "#fdca26"
             ],
             [
              1,
              "#f0f921"
             ]
            ],
            "type": "heatmapgl"
           }
          ],
          "histogram": [
           {
            "marker": {
             "pattern": {
              "fillmode": "overlay",
              "size": 10,
              "solidity": 0.2
             }
            },
            "type": "histogram"
           }
          ],
          "histogram2d": [
           {
            "colorbar": {
             "outlinewidth": 0,
             "ticks": ""
            },
            "colorscale": [
             [
              0,
              "#0d0887"
             ],
             [
              0.1111111111111111,
              "#46039f"
             ],
             [
              0.2222222222222222,
              "#7201a8"
             ],
             [
              0.3333333333333333,
              "#9c179e"
             ],
             [
              0.4444444444444444,
              "#bd3786"
             ],
             [
              0.5555555555555556,
              "#d8576b"
             ],
             [
              0.6666666666666666,
              "#ed7953"
             ],
             [
              0.7777777777777778,
              "#fb9f3a"
             ],
             [
              0.8888888888888888,
              "#fdca26"
             ],
             [
              1,
              "#f0f921"
             ]
            ],
            "type": "histogram2d"
           }
          ],
          "histogram2dcontour": [
           {
            "colorbar": {
             "outlinewidth": 0,
             "ticks": ""
            },
            "colorscale": [
             [
              0,
              "#0d0887"
             ],
             [
              0.1111111111111111,
              "#46039f"
             ],
             [
              0.2222222222222222,
              "#7201a8"
             ],
             [
              0.3333333333333333,
              "#9c179e"
             ],
             [
              0.4444444444444444,
              "#bd3786"
             ],
             [
              0.5555555555555556,
              "#d8576b"
             ],
             [
              0.6666666666666666,
              "#ed7953"
             ],
             [
              0.7777777777777778,
              "#fb9f3a"
             ],
             [
              0.8888888888888888,
              "#fdca26"
             ],
             [
              1,
              "#f0f921"
             ]
            ],
            "type": "histogram2dcontour"
           }
          ],
          "mesh3d": [
           {
            "colorbar": {
             "outlinewidth": 0,
             "ticks": ""
            },
            "type": "mesh3d"
           }
          ],
          "parcoords": [
           {
            "line": {
             "colorbar": {
              "outlinewidth": 0,
              "ticks": ""
             }
            },
            "type": "parcoords"
           }
          ],
          "pie": [
           {
            "automargin": true,
            "type": "pie"
           }
          ],
          "scatter": [
           {
            "fillpattern": {
             "fillmode": "overlay",
             "size": 10,
             "solidity": 0.2
            },
            "type": "scatter"
           }
          ],
          "scatter3d": [
           {
            "line": {
             "colorbar": {
              "outlinewidth": 0,
              "ticks": ""
             }
            },
            "marker": {
             "colorbar": {
              "outlinewidth": 0,
              "ticks": ""
             }
            },
            "type": "scatter3d"
           }
          ],
          "scattercarpet": [
           {
            "marker": {
             "colorbar": {
              "outlinewidth": 0,
              "ticks": ""
             }
            },
            "type": "scattercarpet"
           }
          ],
          "scattergeo": [
           {
            "marker": {
             "colorbar": {
              "outlinewidth": 0,
              "ticks": ""
             }
            },
            "type": "scattergeo"
           }
          ],
          "scattergl": [
           {
            "marker": {
             "colorbar": {
              "outlinewidth": 0,
              "ticks": ""
             }
            },
            "type": "scattergl"
           }
          ],
          "scattermapbox": [
           {
            "marker": {
             "colorbar": {
              "outlinewidth": 0,
              "ticks": ""
             }
            },
            "type": "scattermapbox"
           }
          ],
          "scatterpolar": [
           {
            "marker": {
             "colorbar": {
              "outlinewidth": 0,
              "ticks": ""
             }
            },
            "type": "scatterpolar"
           }
          ],
          "scatterpolargl": [
           {
            "marker": {
             "colorbar": {
              "outlinewidth": 0,
              "ticks": ""
             }
            },
            "type": "scatterpolargl"
           }
          ],
          "scatterternary": [
           {
            "marker": {
             "colorbar": {
              "outlinewidth": 0,
              "ticks": ""
             }
            },
            "type": "scatterternary"
           }
          ],
          "surface": [
           {
            "colorbar": {
             "outlinewidth": 0,
             "ticks": ""
            },
            "colorscale": [
             [
              0,
              "#0d0887"
             ],
             [
              0.1111111111111111,
              "#46039f"
             ],
             [
              0.2222222222222222,
              "#7201a8"
             ],
             [
              0.3333333333333333,
              "#9c179e"
             ],
             [
              0.4444444444444444,
              "#bd3786"
             ],
             [
              0.5555555555555556,
              "#d8576b"
             ],
             [
              0.6666666666666666,
              "#ed7953"
             ],
             [
              0.7777777777777778,
              "#fb9f3a"
             ],
             [
              0.8888888888888888,
              "#fdca26"
             ],
             [
              1,
              "#f0f921"
             ]
            ],
            "type": "surface"
           }
          ],
          "table": [
           {
            "cells": {
             "fill": {
              "color": "#EBF0F8"
             },
             "line": {
              "color": "white"
             }
            },
            "header": {
             "fill": {
              "color": "#C8D4E3"
             },
             "line": {
              "color": "white"
             }
            },
            "type": "table"
           }
          ]
         },
         "layout": {
          "annotationdefaults": {
           "arrowcolor": "#2a3f5f",
           "arrowhead": 0,
           "arrowwidth": 1
          },
          "autotypenumbers": "strict",
          "coloraxis": {
           "colorbar": {
            "outlinewidth": 0,
            "ticks": ""
           }
          },
          "colorscale": {
           "diverging": [
            [
             0,
             "#8e0152"
            ],
            [
             0.1,
             "#c51b7d"
            ],
            [
             0.2,
             "#de77ae"
            ],
            [
             0.3,
             "#f1b6da"
            ],
            [
             0.4,
             "#fde0ef"
            ],
            [
             0.5,
             "#f7f7f7"
            ],
            [
             0.6,
             "#e6f5d0"
            ],
            [
             0.7,
             "#b8e186"
            ],
            [
             0.8,
             "#7fbc41"
            ],
            [
             0.9,
             "#4d9221"
            ],
            [
             1,
             "#276419"
            ]
           ],
           "sequential": [
            [
             0,
             "#0d0887"
            ],
            [
             0.1111111111111111,
             "#46039f"
            ],
            [
             0.2222222222222222,
             "#7201a8"
            ],
            [
             0.3333333333333333,
             "#9c179e"
            ],
            [
             0.4444444444444444,
             "#bd3786"
            ],
            [
             0.5555555555555556,
             "#d8576b"
            ],
            [
             0.6666666666666666,
             "#ed7953"
            ],
            [
             0.7777777777777778,
             "#fb9f3a"
            ],
            [
             0.8888888888888888,
             "#fdca26"
            ],
            [
             1,
             "#f0f921"
            ]
           ],
           "sequentialminus": [
            [
             0,
             "#0d0887"
            ],
            [
             0.1111111111111111,
             "#46039f"
            ],
            [
             0.2222222222222222,
             "#7201a8"
            ],
            [
             0.3333333333333333,
             "#9c179e"
            ],
            [
             0.4444444444444444,
             "#bd3786"
            ],
            [
             0.5555555555555556,
             "#d8576b"
            ],
            [
             0.6666666666666666,
             "#ed7953"
            ],
            [
             0.7777777777777778,
             "#fb9f3a"
            ],
            [
             0.8888888888888888,
             "#fdca26"
            ],
            [
             1,
             "#f0f921"
            ]
           ]
          },
          "colorway": [
           "#636efa",
           "#EF553B",
           "#00cc96",
           "#ab63fa",
           "#FFA15A",
           "#19d3f3",
           "#FF6692",
           "#B6E880",
           "#FF97FF",
           "#FECB52"
          ],
          "font": {
           "color": "#2a3f5f"
          },
          "geo": {
           "bgcolor": "white",
           "lakecolor": "white",
           "landcolor": "#E5ECF6",
           "showlakes": true,
           "showland": true,
           "subunitcolor": "white"
          },
          "hoverlabel": {
           "align": "left"
          },
          "hovermode": "closest",
          "mapbox": {
           "style": "light"
          },
          "paper_bgcolor": "white",
          "plot_bgcolor": "#E5ECF6",
          "polar": {
           "angularaxis": {
            "gridcolor": "white",
            "linecolor": "white",
            "ticks": ""
           },
           "bgcolor": "#E5ECF6",
           "radialaxis": {
            "gridcolor": "white",
            "linecolor": "white",
            "ticks": ""
           }
          },
          "scene": {
           "xaxis": {
            "backgroundcolor": "#E5ECF6",
            "gridcolor": "white",
            "gridwidth": 2,
            "linecolor": "white",
            "showbackground": true,
            "ticks": "",
            "zerolinecolor": "white"
           },
           "yaxis": {
            "backgroundcolor": "#E5ECF6",
            "gridcolor": "white",
            "gridwidth": 2,
            "linecolor": "white",
            "showbackground": true,
            "ticks": "",
            "zerolinecolor": "white"
           },
           "zaxis": {
            "backgroundcolor": "#E5ECF6",
            "gridcolor": "white",
            "gridwidth": 2,
            "linecolor": "white",
            "showbackground": true,
            "ticks": "",
            "zerolinecolor": "white"
           }
          },
          "shapedefaults": {
           "line": {
            "color": "#2a3f5f"
           }
          },
          "ternary": {
           "aaxis": {
            "gridcolor": "white",
            "linecolor": "white",
            "ticks": ""
           },
           "baxis": {
            "gridcolor": "white",
            "linecolor": "white",
            "ticks": ""
           },
           "bgcolor": "#E5ECF6",
           "caxis": {
            "gridcolor": "white",
            "linecolor": "white",
            "ticks": ""
           }
          },
          "title": {
           "x": 0.05
          },
          "xaxis": {
           "automargin": true,
           "gridcolor": "white",
           "linecolor": "white",
           "ticks": "",
           "title": {
            "standoff": 15
           },
           "zerolinecolor": "white",
           "zerolinewidth": 2
          },
          "yaxis": {
           "automargin": true,
           "gridcolor": "white",
           "linecolor": "white",
           "ticks": "",
           "title": {
            "standoff": 15
           },
           "zerolinecolor": "white",
           "zerolinewidth": 2
          }
         }
        },
        "title": {
         "text": "Combined frequency for words - father"
        },
        "xaxis": {
         "categoryarray": [
          "Genesis",
          "Exodus",
          "Leviticus",
          "Numbers",
          "Deuteronomy",
          "Joshua",
          "Judges",
          "Ruth",
          "1 Samuel",
          "2 Samuel",
          "1 Kings",
          "2 Kings",
          "1 Chronicles",
          "2 Chronicles",
          "Ezra",
          "Nehemiah",
          "Esther",
          "Job",
          "Psalms",
          "Proverbs",
          "Ecclesiastes",
          "Song of Solomon",
          "Isaiah",
          "Jeremiah",
          "Lamentations",
          "Ezekiel",
          "Daniel",
          "Hosea",
          "Joel",
          "Amos",
          "Obadiah",
          "Jonah",
          "Micah",
          "Nahum",
          "Habakkuk",
          "Zephaniah",
          "Haggai",
          "Zechariah",
          "Malachi",
          "Matthew",
          "Mark",
          "Luke",
          "John",
          "Acts",
          "Romans",
          "1 Corinthians",
          "2 Corinthians",
          "Galatians",
          "Ephesians",
          "Philippians",
          "Colossians",
          "1 Thessalonians",
          "2 Thessalonians",
          "1 Timothy",
          "2 Timothy",
          "Titus",
          "Philemon",
          "Hebrews",
          "James",
          "1 Peter",
          "2 Peter",
          "1 John",
          "2 John",
          "3 John",
          "Jude",
          "Revelation"
         ],
         "categoryorder": "array",
         "title": {
          "text": "Books"
         }
        },
        "yaxis": {
         "title": {
          "text": "Percentage"
         }
        }
       }
      },
      "text/html": [
       "<div>                            <div id=\"6194172f-cd8f-4f30-b5e4-cb89ac6331ab\" class=\"plotly-graph-div\" style=\"height:525px; width:100%;\"></div>            <script type=\"text/javascript\">                require([\"plotly\"], function(Plotly) {                    window.PLOTLYENV=window.PLOTLYENV || {};                                    if (document.getElementById(\"6194172f-cd8f-4f30-b5e4-cb89ac6331ab\")) {                    Plotly.newPlot(                        \"6194172f-cd8f-4f30-b5e4-cb89ac6331ab\",                        [{\"customdata\":[[\"Genesis\",241],[\"Exodus\",11],[\"Leviticus\",23],[\"Numbers\",22],[\"Deuteronomy\",22],[\"Joshua\",8],[\"Judges\",36],[\"Ruth\",12],[\"1 Samuel\",48],[\"2 Samuel\",23],[\"1 Kings\",62],[\"2 Kings\",33],[\"1 Chronicles\",133],[\"2 Chronicles\",54],[\"Nehemiah\",6],[\"Esther\",3],[\"Job\",6],[\"Psalms\",6],[\"Proverbs\",22],[\"Isaiah\",14],[\"Jeremiah\",7],[\"Ezekiel\",13],[\"Daniel\",6],[\"Amos\",1],[\"Micah\",1],[\"Zechariah\",1],[\"Malachi\",3],[\"Matthew\",100],[\"Mark\",18],[\"Luke\",45],[\"John\",130],[\"Acts\",15],[\"Romans\",13],[\"1 Corinthians\",5],[\"2 Corinthians\",5],[\"Galatians\",5],[\"Ephesians\",10],[\"Philippians\",4],[\"Colossians\",4],[\"1 Thessalonians\",5],[\"2 Thessalonians\",3],[\"1 Timothy\",2],[\"2 Timothy\",1],[\"Titus\",1],[\"Philemon\",1],[\"Hebrews\",6],[\"James\",3],[\"1 Peter\",3],[\"2 Peter\",1],[\"1 John\",13],[\"2 John\",4],[\"Jude\",1],[\"Revelation\",5]],\"hovertemplate\":\"Book: %{customdata[0]}<br>Word Count: %{customdata[1]}<br>Percentage: %{y}%\",\"x\":[\"Genesis\",\"Exodus\",\"Leviticus\",\"Numbers\",\"Deuteronomy\",\"Joshua\",\"Judges\",\"Ruth\",\"1 Samuel\",\"2 Samuel\",\"1 Kings\",\"2 Kings\",\"1 Chronicles\",\"2 Chronicles\",\"Nehemiah\",\"Esther\",\"Job\",\"Psalms\",\"Proverbs\",\"Isaiah\",\"Jeremiah\",\"Ezekiel\",\"Daniel\",\"Amos\",\"Micah\",\"Zechariah\",\"Malachi\",\"Matthew\",\"Mark\",\"Luke\",\"John\",\"Acts\",\"Romans\",\"1 Corinthians\",\"2 Corinthians\",\"Galatians\",\"Ephesians\",\"Philippians\",\"Colossians\",\"1 Thessalonians\",\"2 Thessalonians\",\"1 Timothy\",\"2 Timothy\",\"Titus\",\"Philemon\",\"Hebrews\",\"James\",\"1 Peter\",\"2 Peter\",\"1 John\",\"2 John\",\"Jude\",\"Revelation\"],\"y\":[1.5307418699186992,0.08552989658657958,0.23824321524756578,0.16727493917274938,0.20766471587691146,0.10823975104857259,0.4880694143167028,1.1753183153770812,0.48221820373719104,0.26494643474254115,0.6139221705119319,0.33776867963152507,1.4429857871324727,0.4917584919406247,0.13565453312231518,0.12594458438287154,0.08086253369272238,0.0335195530726257,0.325877647755888,0.09291829826773744,0.042085011723681835,0.08450887343171033,0.12798634812286688,0.05743825387708214,0.08006405124099279,0.04164931278633903,0.42075736325385693,1.0279605263157896,0.2914507772020725,0.4354979192877189,1.7082785808147174,0.1457301078402798,0.31894013738959764,0.12960082944530846,0.20300446609825418,0.3714710252600297,0.7485029940119761,0.43478260869565216,0.45819014891179843,0.6321112515802781,0.683371298405467,0.18066847335140018,0.12970168612191957,0.2188183807439825,0.5319148936170213,0.1951854261548471,0.2909796314258002,0.28195488721804507,0.14204545454545456,1.294820717131474,3.3333333333333335,0.33333333333333337,0.09952229299363058],\"type\":\"bar\"}],                        {\"template\":{\"data\":{\"histogram2dcontour\":[{\"type\":\"histogram2dcontour\",\"colorbar\":{\"outlinewidth\":0,\"ticks\":\"\"},\"colorscale\":[[0.0,\"#0d0887\"],[0.1111111111111111,\"#46039f\"],[0.2222222222222222,\"#7201a8\"],[0.3333333333333333,\"#9c179e\"],[0.4444444444444444,\"#bd3786\"],[0.5555555555555556,\"#d8576b\"],[0.6666666666666666,\"#ed7953\"],[0.7777777777777778,\"#fb9f3a\"],[0.8888888888888888,\"#fdca26\"],[1.0,\"#f0f921\"]]}],\"choropleth\":[{\"type\":\"choropleth\",\"colorbar\":{\"outlinewidth\":0,\"ticks\":\"\"}}],\"histogram2d\":[{\"type\":\"histogram2d\",\"colorbar\":{\"outlinewidth\":0,\"ticks\":\"\"},\"colorscale\":[[0.0,\"#0d0887\"],[0.1111111111111111,\"#46039f\"],[0.2222222222222222,\"#7201a8\"],[0.3333333333333333,\"#9c179e\"],[0.4444444444444444,\"#bd3786\"],[0.5555555555555556,\"#d8576b\"],[0.6666666666666666,\"#ed7953\"],[0.7777777777777778,\"#fb9f3a\"],[0.8888888888888888,\"#fdca26\"],[1.0,\"#f0f921\"]]}],\"heatmap\":[{\"type\":\"heatmap\",\"colorbar\":{\"outlinewidth\":0,\"ticks\":\"\"},\"colorscale\":[[0.0,\"#0d0887\"],[0.1111111111111111,\"#46039f\"],[0.2222222222222222,\"#7201a8\"],[0.3333333333333333,\"#9c179e\"],[0.4444444444444444,\"#bd3786\"],[0.5555555555555556,\"#d8576b\"],[0.6666666666666666,\"#ed7953\"],[0.7777777777777778,\"#fb9f3a\"],[0.8888888888888888,\"#fdca26\"],[1.0,\"#f0f921\"]]}],\"heatmapgl\":[{\"type\":\"heatmapgl\",\"colorbar\":{\"outlinewidth\":0,\"ticks\":\"\"},\"colorscale\":[[0.0,\"#0d0887\"],[0.1111111111111111,\"#46039f\"],[0.2222222222222222,\"#7201a8\"],[0.3333333333333333,\"#9c179e\"],[0.4444444444444444,\"#bd3786\"],[0.5555555555555556,\"#d8576b\"],[0.6666666666666666,\"#ed7953\"],[0.7777777777777778,\"#fb9f3a\"],[0.8888888888888888,\"#fdca26\"],[1.0,\"#f0f921\"]]}],\"contourcarpet\":[{\"type\":\"contourcarpet\",\"colorbar\":{\"outlinewidth\":0,\"ticks\":\"\"}}],\"contour\":[{\"type\":\"contour\",\"colorbar\":{\"outlinewidth\":0,\"ticks\":\"\"},\"colorscale\":[[0.0,\"#0d0887\"],[0.1111111111111111,\"#46039f\"],[0.2222222222222222,\"#7201a8\"],[0.3333333333333333,\"#9c179e\"],[0.4444444444444444,\"#bd3786\"],[0.5555555555555556,\"#d8576b\"],[0.6666666666666666,\"#ed7953\"],[0.7777777777777778,\"#fb9f3a\"],[0.8888888888888888,\"#fdca26\"],[1.0,\"#f0f921\"]]}],\"surface\":[{\"type\":\"surface\",\"colorbar\":{\"outlinewidth\":0,\"ticks\":\"\"},\"colorscale\":[[0.0,\"#0d0887\"],[0.1111111111111111,\"#46039f\"],[0.2222222222222222,\"#7201a8\"],[0.3333333333333333,\"#9c179e\"],[0.4444444444444444,\"#bd3786\"],[0.5555555555555556,\"#d8576b\"],[0.6666666666666666,\"#ed7953\"],[0.7777777777777778,\"#fb9f3a\"],[0.8888888888888888,\"#fdca26\"],[1.0,\"#f0f921\"]]}],\"mesh3d\":[{\"type\":\"mesh3d\",\"colorbar\":{\"outlinewidth\":0,\"ticks\":\"\"}}],\"scatter\":[{\"fillpattern\":{\"fillmode\":\"overlay\",\"size\":10,\"solidity\":0.2},\"type\":\"scatter\"}],\"parcoords\":[{\"type\":\"parcoords\",\"line\":{\"colorbar\":{\"outlinewidth\":0,\"ticks\":\"\"}}}],\"scatterpolargl\":[{\"type\":\"scatterpolargl\",\"marker\":{\"colorbar\":{\"outlinewidth\":0,\"ticks\":\"\"}}}],\"bar\":[{\"error_x\":{\"color\":\"#2a3f5f\"},\"error_y\":{\"color\":\"#2a3f5f\"},\"marker\":{\"line\":{\"color\":\"#E5ECF6\",\"width\":0.5},\"pattern\":{\"fillmode\":\"overlay\",\"size\":10,\"solidity\":0.2}},\"type\":\"bar\"}],\"scattergeo\":[{\"type\":\"scattergeo\",\"marker\":{\"colorbar\":{\"outlinewidth\":0,\"ticks\":\"\"}}}],\"scatterpolar\":[{\"type\":\"scatterpolar\",\"marker\":{\"colorbar\":{\"outlinewidth\":0,\"ticks\":\"\"}}}],\"histogram\":[{\"marker\":{\"pattern\":{\"fillmode\":\"overlay\",\"size\":10,\"solidity\":0.2}},\"type\":\"histogram\"}],\"scattergl\":[{\"type\":\"scattergl\",\"marker\":{\"colorbar\":{\"outlinewidth\":0,\"ticks\":\"\"}}}],\"scatter3d\":[{\"type\":\"scatter3d\",\"line\":{\"colorbar\":{\"outlinewidth\":0,\"ticks\":\"\"}},\"marker\":{\"colorbar\":{\"outlinewidth\":0,\"ticks\":\"\"}}}],\"scattermapbox\":[{\"type\":\"scattermapbox\",\"marker\":{\"colorbar\":{\"outlinewidth\":0,\"ticks\":\"\"}}}],\"scatterternary\":[{\"type\":\"scatterternary\",\"marker\":{\"colorbar\":{\"outlinewidth\":0,\"ticks\":\"\"}}}],\"scattercarpet\":[{\"type\":\"scattercarpet\",\"marker\":{\"colorbar\":{\"outlinewidth\":0,\"ticks\":\"\"}}}],\"carpet\":[{\"aaxis\":{\"endlinecolor\":\"#2a3f5f\",\"gridcolor\":\"white\",\"linecolor\":\"white\",\"minorgridcolor\":\"white\",\"startlinecolor\":\"#2a3f5f\"},\"baxis\":{\"endlinecolor\":\"#2a3f5f\",\"gridcolor\":\"white\",\"linecolor\":\"white\",\"minorgridcolor\":\"white\",\"startlinecolor\":\"#2a3f5f\"},\"type\":\"carpet\"}],\"table\":[{\"cells\":{\"fill\":{\"color\":\"#EBF0F8\"},\"line\":{\"color\":\"white\"}},\"header\":{\"fill\":{\"color\":\"#C8D4E3\"},\"line\":{\"color\":\"white\"}},\"type\":\"table\"}],\"barpolar\":[{\"marker\":{\"line\":{\"color\":\"#E5ECF6\",\"width\":0.5},\"pattern\":{\"fillmode\":\"overlay\",\"size\":10,\"solidity\":0.2}},\"type\":\"barpolar\"}],\"pie\":[{\"automargin\":true,\"type\":\"pie\"}]},\"layout\":{\"autotypenumbers\":\"strict\",\"colorway\":[\"#636efa\",\"#EF553B\",\"#00cc96\",\"#ab63fa\",\"#FFA15A\",\"#19d3f3\",\"#FF6692\",\"#B6E880\",\"#FF97FF\",\"#FECB52\"],\"font\":{\"color\":\"#2a3f5f\"},\"hovermode\":\"closest\",\"hoverlabel\":{\"align\":\"left\"},\"paper_bgcolor\":\"white\",\"plot_bgcolor\":\"#E5ECF6\",\"polar\":{\"bgcolor\":\"#E5ECF6\",\"angularaxis\":{\"gridcolor\":\"white\",\"linecolor\":\"white\",\"ticks\":\"\"},\"radialaxis\":{\"gridcolor\":\"white\",\"linecolor\":\"white\",\"ticks\":\"\"}},\"ternary\":{\"bgcolor\":\"#E5ECF6\",\"aaxis\":{\"gridcolor\":\"white\",\"linecolor\":\"white\",\"ticks\":\"\"},\"baxis\":{\"gridcolor\":\"white\",\"linecolor\":\"white\",\"ticks\":\"\"},\"caxis\":{\"gridcolor\":\"white\",\"linecolor\":\"white\",\"ticks\":\"\"}},\"coloraxis\":{\"colorbar\":{\"outlinewidth\":0,\"ticks\":\"\"}},\"colorscale\":{\"sequential\":[[0.0,\"#0d0887\"],[0.1111111111111111,\"#46039f\"],[0.2222222222222222,\"#7201a8\"],[0.3333333333333333,\"#9c179e\"],[0.4444444444444444,\"#bd3786\"],[0.5555555555555556,\"#d8576b\"],[0.6666666666666666,\"#ed7953\"],[0.7777777777777778,\"#fb9f3a\"],[0.8888888888888888,\"#fdca26\"],[1.0,\"#f0f921\"]],\"sequentialminus\":[[0.0,\"#0d0887\"],[0.1111111111111111,\"#46039f\"],[0.2222222222222222,\"#7201a8\"],[0.3333333333333333,\"#9c179e\"],[0.4444444444444444,\"#bd3786\"],[0.5555555555555556,\"#d8576b\"],[0.6666666666666666,\"#ed7953\"],[0.7777777777777778,\"#fb9f3a\"],[0.8888888888888888,\"#fdca26\"],[1.0,\"#f0f921\"]],\"diverging\":[[0,\"#8e0152\"],[0.1,\"#c51b7d\"],[0.2,\"#de77ae\"],[0.3,\"#f1b6da\"],[0.4,\"#fde0ef\"],[0.5,\"#f7f7f7\"],[0.6,\"#e6f5d0\"],[0.7,\"#b8e186\"],[0.8,\"#7fbc41\"],[0.9,\"#4d9221\"],[1,\"#276419\"]]},\"xaxis\":{\"gridcolor\":\"white\",\"linecolor\":\"white\",\"ticks\":\"\",\"title\":{\"standoff\":15},\"zerolinecolor\":\"white\",\"automargin\":true,\"zerolinewidth\":2},\"yaxis\":{\"gridcolor\":\"white\",\"linecolor\":\"white\",\"ticks\":\"\",\"title\":{\"standoff\":15},\"zerolinecolor\":\"white\",\"automargin\":true,\"zerolinewidth\":2},\"scene\":{\"xaxis\":{\"backgroundcolor\":\"#E5ECF6\",\"gridcolor\":\"white\",\"linecolor\":\"white\",\"showbackground\":true,\"ticks\":\"\",\"zerolinecolor\":\"white\",\"gridwidth\":2},\"yaxis\":{\"backgroundcolor\":\"#E5ECF6\",\"gridcolor\":\"white\",\"linecolor\":\"white\",\"showbackground\":true,\"ticks\":\"\",\"zerolinecolor\":\"white\",\"gridwidth\":2},\"zaxis\":{\"backgroundcolor\":\"#E5ECF6\",\"gridcolor\":\"white\",\"linecolor\":\"white\",\"showbackground\":true,\"ticks\":\"\",\"zerolinecolor\":\"white\",\"gridwidth\":2}},\"shapedefaults\":{\"line\":{\"color\":\"#2a3f5f\"}},\"annotationdefaults\":{\"arrowcolor\":\"#2a3f5f\",\"arrowhead\":0,\"arrowwidth\":1},\"geo\":{\"bgcolor\":\"white\",\"landcolor\":\"#E5ECF6\",\"subunitcolor\":\"white\",\"showland\":true,\"showlakes\":true,\"lakecolor\":\"white\"},\"title\":{\"x\":0.05},\"mapbox\":{\"style\":\"light\"}}},\"title\":{\"text\":\"Combined frequency for words - father\"},\"showlegend\":false,\"yaxis\":{\"title\":{\"text\":\"Percentage\"}},\"xaxis\":{\"title\":{\"text\":\"Books\"},\"categoryorder\":\"array\",\"categoryarray\":[\"Genesis\",\"Exodus\",\"Leviticus\",\"Numbers\",\"Deuteronomy\",\"Joshua\",\"Judges\",\"Ruth\",\"1 Samuel\",\"2 Samuel\",\"1 Kings\",\"2 Kings\",\"1 Chronicles\",\"2 Chronicles\",\"Ezra\",\"Nehemiah\",\"Esther\",\"Job\",\"Psalms\",\"Proverbs\",\"Ecclesiastes\",\"Song of Solomon\",\"Isaiah\",\"Jeremiah\",\"Lamentations\",\"Ezekiel\",\"Daniel\",\"Hosea\",\"Joel\",\"Amos\",\"Obadiah\",\"Jonah\",\"Micah\",\"Nahum\",\"Habakkuk\",\"Zephaniah\",\"Haggai\",\"Zechariah\",\"Malachi\",\"Matthew\",\"Mark\",\"Luke\",\"John\",\"Acts\",\"Romans\",\"1 Corinthians\",\"2 Corinthians\",\"Galatians\",\"Ephesians\",\"Philippians\",\"Colossians\",\"1 Thessalonians\",\"2 Thessalonians\",\"1 Timothy\",\"2 Timothy\",\"Titus\",\"Philemon\",\"Hebrews\",\"James\",\"1 Peter\",\"2 Peter\",\"1 John\",\"2 John\",\"3 John\",\"Jude\",\"Revelation\"]}},                        {\"responsive\": true}                    ).then(function(){\n",
       "                            \n",
       "var gd = document.getElementById('6194172f-cd8f-4f30-b5e4-cb89ac6331ab');\n",
       "var x = new MutationObserver(function (mutations, observer) {{\n",
       "        var display = window.getComputedStyle(gd).display;\n",
       "        if (!display || display === 'none') {{\n",
       "            console.log([gd, 'removed!']);\n",
       "            Plotly.purge(gd);\n",
       "            observer.disconnect();\n",
       "        }}\n",
       "}});\n",
       "\n",
       "// Listen for the removal of the full notebook cells\n",
       "var notebookContainer = gd.closest('#notebook-container');\n",
       "if (notebookContainer) {{\n",
       "    x.observe(notebookContainer, {childList: true});\n",
       "}}\n",
       "\n",
       "// Listen for the clearing of the current output cell\n",
       "var outputEl = gd.closest('.output');\n",
       "if (outputEl) {{\n",
       "    x.observe(outputEl, {childList: true});\n",
       "}}\n",
       "\n",
       "                        })                };                });            </script>        </div>"
      ]
     },
     "metadata": {},
     "output_type": "display_data"
    }
   ],
   "source": [
    "books = bible_books_in_order\n",
    "\n",
    "\n",
    "#words = [w[0] for w in get_common_words([\"Genesis\"]).most_common(10)]\n",
    "words = [\"father\"]\n",
    "words_fig = plot_words(words,filter_books=books,show_percent=True)\n",
    "#words_fig.show()\n",
    "\n",
    "# Re-extract data from graph\n",
    "big_data = words_fig.to_dict()\n",
    "\n",
    "all_percents = defaultdict(float)\n",
    "all_counts = defaultdict(int)\n",
    "\n",
    "# for each word graph add percentages together\n",
    "for word_graph in big_data[\"data\"]:\n",
    "    count = list(map(lambda x:x[1],word_graph[\"customdata\"]))\n",
    "    percents = word_graph[\"y\"]\n",
    "    books = word_graph[\"x\"]\n",
    "    for i in range(len(books)):\n",
    "        all_percents[books[i]] += percents[i]\n",
    "        all_counts[books[i]] += count[i]\n",
    "\n",
    "word_books,all_percentages_from_y = zip(*all_percents.items())\n",
    "\n",
    "print(len(word_books),len(all_percentages_from_y))\n",
    "bar = go.Bar(x=word_books, y=all_percentages_from_y, hovertemplate=HOVER_TEMPLATE,customdata=list(all_counts.items()))\n",
    "fig = go.Figure(data=bar)\n",
    "fig.update_layout(title=\"Combined frequency for words - \"+ (\", \".join(words)), showlegend=False,\n",
    "        yaxis_title=\"Percentage\",\n",
    "        xaxis_title=\"Books\",)\n",
    "fig.update_xaxes(categoryorder=\"array\", categoryarray=bible_books_in_order)\n",
    "fig.show()\n",
    "\n",
    "#words_fig.show()"
   ]
  },
  {
   "cell_type": "code",
   "execution_count": 35,
   "metadata": {},
   "outputs": [
    {
     "data": {
      "application/vnd.plotly.v1+json": {
       "config": {
        "plotlyServerURL": "https://plot.ly"
       },
       "data": [
        {
         "customdata": [
          [
           "2",
           1
          ],
          [
           "4",
           5
          ],
          [
           "5",
           15
          ],
          [
           "9",
           5
          ],
          [
           "10",
           6
          ],
          [
           "11",
           21
          ],
          [
           "12",
           1
          ],
          [
           "17",
           3
          ],
          [
           "19",
           10
          ],
          [
           "20",
           2
          ],
          [
           "22",
           4
          ],
          [
           "24",
           4
          ],
          [
           "25",
           2
          ],
          [
           "26",
           6
          ],
          [
           "27",
           22
          ],
          [
           "28",
           5
          ],
          [
           "29",
           3
          ],
          [
           "31",
           17
          ],
          [
           "32",
           2
          ],
          [
           "33",
           1
          ],
          [
           "34",
           5
          ],
          [
           "35",
           3
          ],
          [
           "36",
           3
          ],
          [
           "37",
           11
          ],
          [
           "38",
           2
          ],
          [
           "41",
           1
          ],
          [
           "42",
           7
          ],
          [
           "43",
           7
          ],
          [
           "44",
           16
          ],
          [
           "45",
           10
          ],
          [
           "46",
           7
          ],
          [
           "47",
           7
          ],
          [
           "48",
           7
          ],
          [
           "49",
           6
          ],
          [
           "50",
           14
          ]
         ],
         "hovertemplate": "Chapter: %{customdata[0]}<br>Word Count: %{customdata[1]}",
         "type": "bar",
         "x": [
          "2",
          "4",
          "5",
          "9",
          "10",
          "11",
          "12",
          "17",
          "19",
          "20",
          "22",
          "24",
          "25",
          "26",
          "27",
          "28",
          "29",
          "31",
          "32",
          "33",
          "34",
          "35",
          "36",
          "37",
          "38",
          "41",
          "42",
          "43",
          "44",
          "45",
          "46",
          "47",
          "48",
          "49",
          "50"
         ],
         "xaxis": "x",
         "y": [
          1,
          5,
          15,
          5,
          6,
          21,
          1,
          3,
          10,
          2,
          4,
          4,
          2,
          6,
          22,
          5,
          3,
          17,
          2,
          1,
          5,
          3,
          3,
          11,
          2,
          1,
          7,
          7,
          16,
          10,
          7,
          7,
          7,
          6,
          14
         ],
         "yaxis": "y"
        },
        {
         "customdata": [
          [
           "1",
           7
          ],
          [
           "2",
           42
          ],
          [
           "4",
           21
          ],
          [
           "5",
           1
          ],
          [
           "6",
           21
          ],
          [
           "7",
           4
          ],
          [
           "8",
           12
          ],
          [
           "9",
           10
          ],
          [
           "14",
           1
          ],
          [
           "17",
           1
          ],
          [
           "19",
           3
          ],
          [
           "22",
           1
          ],
          [
           "24",
           1
          ],
          [
           "25",
           1
          ],
          [
           "26",
           2
          ],
          [
           "28",
           3
          ],
          [
           "29",
           2
          ]
         ],
         "hovertemplate": "Chapter: %{customdata[0]}<br>Word Count: %{customdata[1]}",
         "type": "bar",
         "x": [
          "1",
          "2",
          "4",
          "5",
          "6",
          "7",
          "8",
          "9",
          "14",
          "17",
          "19",
          "22",
          "24",
          "25",
          "26",
          "28",
          "29"
         ],
         "xaxis": "x2",
         "y": [
          7,
          42,
          21,
          1,
          21,
          4,
          12,
          10,
          1,
          1,
          3,
          1,
          1,
          1,
          2,
          3,
          2
         ],
         "yaxis": "y2"
        },
        {
         "customdata": [
          [
           "1",
           2
          ],
          [
           "2",
           1
          ],
          [
           "3",
           1
          ],
          [
           "4",
           5
          ],
          [
           "5",
           15
          ],
          [
           "6",
           12
          ],
          [
           "8",
           19
          ],
          [
           "10",
           13
          ],
          [
           "11",
           1
          ],
          [
           "12",
           4
          ],
          [
           "13",
           2
          ],
          [
           "14",
           23
          ],
          [
           "15",
           10
          ],
          [
           "16",
           11
          ],
          [
           "17",
           6
          ],
          [
           "18",
           1
          ],
          [
           "20",
           4
          ]
         ],
         "hovertemplate": "Chapter: %{customdata[0]}<br>Word Count: %{customdata[1]}",
         "type": "bar",
         "x": [
          "1",
          "2",
          "3",
          "4",
          "5",
          "6",
          "8",
          "10",
          "11",
          "12",
          "13",
          "14",
          "15",
          "16",
          "17",
          "18",
          "20"
         ],
         "xaxis": "x3",
         "y": [
          2,
          1,
          1,
          5,
          15,
          12,
          19,
          13,
          1,
          4,
          2,
          23,
          10,
          11,
          6,
          1,
          4
         ],
         "yaxis": "y3"
        },
        {
         "customdata": [
          [
           "1",
           39
          ],
          [
           "2",
           1
          ],
          [
           "3",
           1
          ],
          [
           "4",
           2
          ],
          [
           "5",
           3
          ],
          [
           "6",
           12
          ],
          [
           "7",
           2
          ],
          [
           "8",
           1
          ],
          [
           "10",
           7
          ],
          [
           "11",
           5
          ],
          [
           "12",
           1
          ],
          [
           "13",
           1
          ],
          [
           "15",
           5
          ],
          [
           "16",
           2
          ],
          [
           "18",
           4
          ],
          [
           "19",
           3
          ],
          [
           "20",
           1
          ],
          [
           "21",
           2
          ],
          [
           "23",
           1
          ],
          [
           "24",
           1
          ],
          [
           "25",
           1
          ],
          [
           "26",
           4
          ],
          [
           "28",
           1
          ]
         ],
         "hovertemplate": "Chapter: %{customdata[0]}<br>Word Count: %{customdata[1]}",
         "type": "bar",
         "x": [
          "1",
          "2",
          "3",
          "4",
          "5",
          "6",
          "7",
          "8",
          "10",
          "11",
          "12",
          "13",
          "15",
          "16",
          "18",
          "19",
          "20",
          "21",
          "23",
          "24",
          "25",
          "26",
          "28"
         ],
         "xaxis": "x4",
         "y": [
          39,
          1,
          1,
          2,
          3,
          12,
          2,
          1,
          7,
          5,
          1,
          1,
          5,
          2,
          4,
          3,
          1,
          2,
          1,
          1,
          1,
          4,
          1
         ],
         "yaxis": "y4"
        },
        {
         "customdata": [
          [
           "1",
           1
          ],
          [
           "2",
           7
          ],
          [
           "3",
           4
          ],
          [
           "5",
           3
          ],
          [
           "6",
           1
          ],
          [
           "7",
           2
          ],
          [
           "8",
           7
          ],
          [
           "9",
           2
          ],
          [
           "11",
           7
          ],
          [
           "12",
           9
          ],
          [
           "13",
           2
          ],
          [
           "15",
           7
          ],
          [
           "18",
           1
          ],
          [
           "19",
           1
          ],
          [
           "20",
           3
          ],
          [
           "22",
           5
          ]
         ],
         "hovertemplate": "Chapter: %{customdata[0]}<br>Word Count: %{customdata[1]}",
         "type": "bar",
         "x": [
          "1",
          "2",
          "3",
          "5",
          "6",
          "7",
          "8",
          "9",
          "11",
          "12",
          "13",
          "15",
          "18",
          "19",
          "20",
          "22"
         ],
         "xaxis": "x5",
         "y": [
          1,
          7,
          4,
          3,
          1,
          2,
          7,
          2,
          7,
          9,
          2,
          7,
          1,
          1,
          3,
          5
         ],
         "yaxis": "y5"
        }
       ],
       "layout": {
        "annotations": [
         {
          "font": {
           "size": 16
          },
          "showarrow": false,
          "text": "Genesis - 241 times",
          "x": 0.5,
          "xanchor": "center",
          "xref": "paper",
          "y": 1,
          "yanchor": "bottom",
          "yref": "paper"
         },
         {
          "font": {
           "size": 16
          },
          "showarrow": false,
          "text": "1 Chronicles - 133 times",
          "x": 0.5,
          "xanchor": "center",
          "xref": "paper",
          "y": 0.78,
          "yanchor": "bottom",
          "yref": "paper"
         },
         {
          "font": {
           "size": 16
          },
          "showarrow": false,
          "text": "John - 130 times",
          "x": 0.5,
          "xanchor": "center",
          "xref": "paper",
          "y": 0.56,
          "yanchor": "bottom",
          "yref": "paper"
         },
         {
          "font": {
           "size": 16
          },
          "showarrow": false,
          "text": "Matthew - 100 times",
          "x": 0.5,
          "xanchor": "center",
          "xref": "paper",
          "y": 0.33999999999999997,
          "yanchor": "bottom",
          "yref": "paper"
         },
         {
          "font": {
           "size": 16
          },
          "showarrow": false,
          "text": "1 Kings - 62 times",
          "x": 0.5,
          "xanchor": "center",
          "xref": "paper",
          "y": 0.12,
          "yanchor": "bottom",
          "yref": "paper"
         }
        ],
        "height": 1250,
        "showlegend": false,
        "template": {
         "data": {
          "bar": [
           {
            "error_x": {
             "color": "#2a3f5f"
            },
            "error_y": {
             "color": "#2a3f5f"
            },
            "marker": {
             "line": {
              "color": "#E5ECF6",
              "width": 0.5
             },
             "pattern": {
              "fillmode": "overlay",
              "size": 10,
              "solidity": 0.2
             }
            },
            "type": "bar"
           }
          ],
          "barpolar": [
           {
            "marker": {
             "line": {
              "color": "#E5ECF6",
              "width": 0.5
             },
             "pattern": {
              "fillmode": "overlay",
              "size": 10,
              "solidity": 0.2
             }
            },
            "type": "barpolar"
           }
          ],
          "carpet": [
           {
            "aaxis": {
             "endlinecolor": "#2a3f5f",
             "gridcolor": "white",
             "linecolor": "white",
             "minorgridcolor": "white",
             "startlinecolor": "#2a3f5f"
            },
            "baxis": {
             "endlinecolor": "#2a3f5f",
             "gridcolor": "white",
             "linecolor": "white",
             "minorgridcolor": "white",
             "startlinecolor": "#2a3f5f"
            },
            "type": "carpet"
           }
          ],
          "choropleth": [
           {
            "colorbar": {
             "outlinewidth": 0,
             "ticks": ""
            },
            "type": "choropleth"
           }
          ],
          "contour": [
           {
            "colorbar": {
             "outlinewidth": 0,
             "ticks": ""
            },
            "colorscale": [
             [
              0,
              "#0d0887"
             ],
             [
              0.1111111111111111,
              "#46039f"
             ],
             [
              0.2222222222222222,
              "#7201a8"
             ],
             [
              0.3333333333333333,
              "#9c179e"
             ],
             [
              0.4444444444444444,
              "#bd3786"
             ],
             [
              0.5555555555555556,
              "#d8576b"
             ],
             [
              0.6666666666666666,
              "#ed7953"
             ],
             [
              0.7777777777777778,
              "#fb9f3a"
             ],
             [
              0.8888888888888888,
              "#fdca26"
             ],
             [
              1,
              "#f0f921"
             ]
            ],
            "type": "contour"
           }
          ],
          "contourcarpet": [
           {
            "colorbar": {
             "outlinewidth": 0,
             "ticks": ""
            },
            "type": "contourcarpet"
           }
          ],
          "heatmap": [
           {
            "colorbar": {
             "outlinewidth": 0,
             "ticks": ""
            },
            "colorscale": [
             [
              0,
              "#0d0887"
             ],
             [
              0.1111111111111111,
              "#46039f"
             ],
             [
              0.2222222222222222,
              "#7201a8"
             ],
             [
              0.3333333333333333,
              "#9c179e"
             ],
             [
              0.4444444444444444,
              "#bd3786"
             ],
             [
              0.5555555555555556,
              "#d8576b"
             ],
             [
              0.6666666666666666,
              "#ed7953"
             ],
             [
              0.7777777777777778,
              "#fb9f3a"
             ],
             [
              0.8888888888888888,
              "#fdca26"
             ],
             [
              1,
              "#f0f921"
             ]
            ],
            "type": "heatmap"
           }
          ],
          "heatmapgl": [
           {
            "colorbar": {
             "outlinewidth": 0,
             "ticks": ""
            },
            "colorscale": [
             [
              0,
              "#0d0887"
             ],
             [
              0.1111111111111111,
              "#46039f"
             ],
             [
              0.2222222222222222,
              "#7201a8"
             ],
             [
              0.3333333333333333,
              "#9c179e"
             ],
             [
              0.4444444444444444,
              "#bd3786"
             ],
             [
              0.5555555555555556,
              "#d8576b"
             ],
             [
              0.6666666666666666,
              "#ed7953"
             ],
             [
              0.7777777777777778,
              "#fb9f3a"
             ],
             [
              0.8888888888888888,
              "#fdca26"
             ],
             [
              1,
              "#f0f921"
             ]
            ],
            "type": "heatmapgl"
           }
          ],
          "histogram": [
           {
            "marker": {
             "pattern": {
              "fillmode": "overlay",
              "size": 10,
              "solidity": 0.2
             }
            },
            "type": "histogram"
           }
          ],
          "histogram2d": [
           {
            "colorbar": {
             "outlinewidth": 0,
             "ticks": ""
            },
            "colorscale": [
             [
              0,
              "#0d0887"
             ],
             [
              0.1111111111111111,
              "#46039f"
             ],
             [
              0.2222222222222222,
              "#7201a8"
             ],
             [
              0.3333333333333333,
              "#9c179e"
             ],
             [
              0.4444444444444444,
              "#bd3786"
             ],
             [
              0.5555555555555556,
              "#d8576b"
             ],
             [
              0.6666666666666666,
              "#ed7953"
             ],
             [
              0.7777777777777778,
              "#fb9f3a"
             ],
             [
              0.8888888888888888,
              "#fdca26"
             ],
             [
              1,
              "#f0f921"
             ]
            ],
            "type": "histogram2d"
           }
          ],
          "histogram2dcontour": [
           {
            "colorbar": {
             "outlinewidth": 0,
             "ticks": ""
            },
            "colorscale": [
             [
              0,
              "#0d0887"
             ],
             [
              0.1111111111111111,
              "#46039f"
             ],
             [
              0.2222222222222222,
              "#7201a8"
             ],
             [
              0.3333333333333333,
              "#9c179e"
             ],
             [
              0.4444444444444444,
              "#bd3786"
             ],
             [
              0.5555555555555556,
              "#d8576b"
             ],
             [
              0.6666666666666666,
              "#ed7953"
             ],
             [
              0.7777777777777778,
              "#fb9f3a"
             ],
             [
              0.8888888888888888,
              "#fdca26"
             ],
             [
              1,
              "#f0f921"
             ]
            ],
            "type": "histogram2dcontour"
           }
          ],
          "mesh3d": [
           {
            "colorbar": {
             "outlinewidth": 0,
             "ticks": ""
            },
            "type": "mesh3d"
           }
          ],
          "parcoords": [
           {
            "line": {
             "colorbar": {
              "outlinewidth": 0,
              "ticks": ""
             }
            },
            "type": "parcoords"
           }
          ],
          "pie": [
           {
            "automargin": true,
            "type": "pie"
           }
          ],
          "scatter": [
           {
            "fillpattern": {
             "fillmode": "overlay",
             "size": 10,
             "solidity": 0.2
            },
            "type": "scatter"
           }
          ],
          "scatter3d": [
           {
            "line": {
             "colorbar": {
              "outlinewidth": 0,
              "ticks": ""
             }
            },
            "marker": {
             "colorbar": {
              "outlinewidth": 0,
              "ticks": ""
             }
            },
            "type": "scatter3d"
           }
          ],
          "scattercarpet": [
           {
            "marker": {
             "colorbar": {
              "outlinewidth": 0,
              "ticks": ""
             }
            },
            "type": "scattercarpet"
           }
          ],
          "scattergeo": [
           {
            "marker": {
             "colorbar": {
              "outlinewidth": 0,
              "ticks": ""
             }
            },
            "type": "scattergeo"
           }
          ],
          "scattergl": [
           {
            "marker": {
             "colorbar": {
              "outlinewidth": 0,
              "ticks": ""
             }
            },
            "type": "scattergl"
           }
          ],
          "scattermapbox": [
           {
            "marker": {
             "colorbar": {
              "outlinewidth": 0,
              "ticks": ""
             }
            },
            "type": "scattermapbox"
           }
          ],
          "scatterpolar": [
           {
            "marker": {
             "colorbar": {
              "outlinewidth": 0,
              "ticks": ""
             }
            },
            "type": "scatterpolar"
           }
          ],
          "scatterpolargl": [
           {
            "marker": {
             "colorbar": {
              "outlinewidth": 0,
              "ticks": ""
             }
            },
            "type": "scatterpolargl"
           }
          ],
          "scatterternary": [
           {
            "marker": {
             "colorbar": {
              "outlinewidth": 0,
              "ticks": ""
             }
            },
            "type": "scatterternary"
           }
          ],
          "surface": [
           {
            "colorbar": {
             "outlinewidth": 0,
             "ticks": ""
            },
            "colorscale": [
             [
              0,
              "#0d0887"
             ],
             [
              0.1111111111111111,
              "#46039f"
             ],
             [
              0.2222222222222222,
              "#7201a8"
             ],
             [
              0.3333333333333333,
              "#9c179e"
             ],
             [
              0.4444444444444444,
              "#bd3786"
             ],
             [
              0.5555555555555556,
              "#d8576b"
             ],
             [
              0.6666666666666666,
              "#ed7953"
             ],
             [
              0.7777777777777778,
              "#fb9f3a"
             ],
             [
              0.8888888888888888,
              "#fdca26"
             ],
             [
              1,
              "#f0f921"
             ]
            ],
            "type": "surface"
           }
          ],
          "table": [
           {
            "cells": {
             "fill": {
              "color": "#EBF0F8"
             },
             "line": {
              "color": "white"
             }
            },
            "header": {
             "fill": {
              "color": "#C8D4E3"
             },
             "line": {
              "color": "white"
             }
            },
            "type": "table"
           }
          ]
         },
         "layout": {
          "annotationdefaults": {
           "arrowcolor": "#2a3f5f",
           "arrowhead": 0,
           "arrowwidth": 1
          },
          "autotypenumbers": "strict",
          "coloraxis": {
           "colorbar": {
            "outlinewidth": 0,
            "ticks": ""
           }
          },
          "colorscale": {
           "diverging": [
            [
             0,
             "#8e0152"
            ],
            [
             0.1,
             "#c51b7d"
            ],
            [
             0.2,
             "#de77ae"
            ],
            [
             0.3,
             "#f1b6da"
            ],
            [
             0.4,
             "#fde0ef"
            ],
            [
             0.5,
             "#f7f7f7"
            ],
            [
             0.6,
             "#e6f5d0"
            ],
            [
             0.7,
             "#b8e186"
            ],
            [
             0.8,
             "#7fbc41"
            ],
            [
             0.9,
             "#4d9221"
            ],
            [
             1,
             "#276419"
            ]
           ],
           "sequential": [
            [
             0,
             "#0d0887"
            ],
            [
             0.1111111111111111,
             "#46039f"
            ],
            [
             0.2222222222222222,
             "#7201a8"
            ],
            [
             0.3333333333333333,
             "#9c179e"
            ],
            [
             0.4444444444444444,
             "#bd3786"
            ],
            [
             0.5555555555555556,
             "#d8576b"
            ],
            [
             0.6666666666666666,
             "#ed7953"
            ],
            [
             0.7777777777777778,
             "#fb9f3a"
            ],
            [
             0.8888888888888888,
             "#fdca26"
            ],
            [
             1,
             "#f0f921"
            ]
           ],
           "sequentialminus": [
            [
             0,
             "#0d0887"
            ],
            [
             0.1111111111111111,
             "#46039f"
            ],
            [
             0.2222222222222222,
             "#7201a8"
            ],
            [
             0.3333333333333333,
             "#9c179e"
            ],
            [
             0.4444444444444444,
             "#bd3786"
            ],
            [
             0.5555555555555556,
             "#d8576b"
            ],
            [
             0.6666666666666666,
             "#ed7953"
            ],
            [
             0.7777777777777778,
             "#fb9f3a"
            ],
            [
             0.8888888888888888,
             "#fdca26"
            ],
            [
             1,
             "#f0f921"
            ]
           ]
          },
          "colorway": [
           "#636efa",
           "#EF553B",
           "#00cc96",
           "#ab63fa",
           "#FFA15A",
           "#19d3f3",
           "#FF6692",
           "#B6E880",
           "#FF97FF",
           "#FECB52"
          ],
          "font": {
           "color": "#2a3f5f"
          },
          "geo": {
           "bgcolor": "white",
           "lakecolor": "white",
           "landcolor": "#E5ECF6",
           "showlakes": true,
           "showland": true,
           "subunitcolor": "white"
          },
          "hoverlabel": {
           "align": "left"
          },
          "hovermode": "closest",
          "mapbox": {
           "style": "light"
          },
          "paper_bgcolor": "white",
          "plot_bgcolor": "#E5ECF6",
          "polar": {
           "angularaxis": {
            "gridcolor": "white",
            "linecolor": "white",
            "ticks": ""
           },
           "bgcolor": "#E5ECF6",
           "radialaxis": {
            "gridcolor": "white",
            "linecolor": "white",
            "ticks": ""
           }
          },
          "scene": {
           "xaxis": {
            "backgroundcolor": "#E5ECF6",
            "gridcolor": "white",
            "gridwidth": 2,
            "linecolor": "white",
            "showbackground": true,
            "ticks": "",
            "zerolinecolor": "white"
           },
           "yaxis": {
            "backgroundcolor": "#E5ECF6",
            "gridcolor": "white",
            "gridwidth": 2,
            "linecolor": "white",
            "showbackground": true,
            "ticks": "",
            "zerolinecolor": "white"
           },
           "zaxis": {
            "backgroundcolor": "#E5ECF6",
            "gridcolor": "white",
            "gridwidth": 2,
            "linecolor": "white",
            "showbackground": true,
            "ticks": "",
            "zerolinecolor": "white"
           }
          },
          "shapedefaults": {
           "line": {
            "color": "#2a3f5f"
           }
          },
          "ternary": {
           "aaxis": {
            "gridcolor": "white",
            "linecolor": "white",
            "ticks": ""
           },
           "baxis": {
            "gridcolor": "white",
            "linecolor": "white",
            "ticks": ""
           },
           "bgcolor": "#E5ECF6",
           "caxis": {
            "gridcolor": "white",
            "linecolor": "white",
            "ticks": ""
           }
          },
          "title": {
           "x": 0.05
          },
          "xaxis": {
           "automargin": true,
           "gridcolor": "white",
           "linecolor": "white",
           "ticks": "",
           "title": {
            "standoff": 15
           },
           "zerolinecolor": "white",
           "zerolinewidth": 2
          },
          "yaxis": {
           "automargin": true,
           "gridcolor": "white",
           "linecolor": "white",
           "ticks": "",
           "title": {
            "standoff": 15
           },
           "zerolinecolor": "white",
           "zerolinewidth": 2
          }
         }
        },
        "title": {
         "text": "Chapterwise Combined Counts for words - father"
        },
        "xaxis": {
         "anchor": "y",
         "categoryarray": [
          0,
          1,
          2,
          3,
          4,
          5,
          6,
          7,
          8,
          9,
          10,
          11,
          12,
          13,
          14,
          15,
          16,
          17,
          18,
          19,
          20,
          21,
          22,
          23,
          24,
          25,
          26,
          27,
          28,
          29,
          30,
          31,
          32,
          33,
          34,
          35,
          36,
          37,
          38,
          39,
          40,
          41,
          42,
          43,
          44,
          45,
          46,
          47,
          48,
          49,
          50,
          51,
          52,
          53,
          54,
          55,
          56,
          57,
          58,
          59,
          60,
          61,
          62,
          63,
          64,
          65,
          66,
          67,
          68,
          69,
          70,
          71,
          72,
          73,
          74,
          75,
          76,
          77,
          78,
          79,
          80,
          81,
          82,
          83,
          84,
          85,
          86,
          87,
          88,
          89,
          90,
          91,
          92,
          93,
          94,
          95,
          96,
          97,
          98,
          99,
          100,
          101,
          102,
          103,
          104,
          105,
          106,
          107,
          108,
          109,
          110,
          111,
          112,
          113,
          114,
          115,
          116,
          117,
          118,
          119,
          120,
          121,
          122,
          123,
          124,
          125,
          126,
          127,
          128,
          129,
          130,
          131,
          132,
          133,
          134,
          135,
          136,
          137,
          138,
          139,
          140,
          141,
          142,
          143,
          144,
          145,
          146,
          147,
          148,
          149,
          150,
          151,
          152,
          153,
          154,
          155,
          156,
          157,
          158,
          159,
          160,
          161,
          162,
          163,
          164,
          165,
          166,
          167,
          168,
          169,
          170,
          171,
          172,
          173,
          174,
          175,
          176,
          177,
          178,
          179,
          180,
          181,
          182,
          183,
          184,
          185,
          186,
          187,
          188,
          189,
          190,
          191,
          192,
          193,
          194,
          195,
          196,
          197,
          198,
          199
         ],
         "categoryorder": "array",
         "domain": [
          0,
          1
         ],
         "matches": "x5",
         "showticklabels": false,
         "title": {
          "text": "Chapters"
         }
        },
        "xaxis2": {
         "anchor": "y2",
         "categoryarray": [
          0,
          1,
          2,
          3,
          4,
          5,
          6,
          7,
          8,
          9,
          10,
          11,
          12,
          13,
          14,
          15,
          16,
          17,
          18,
          19,
          20,
          21,
          22,
          23,
          24,
          25,
          26,
          27,
          28,
          29,
          30,
          31,
          32,
          33,
          34,
          35,
          36,
          37,
          38,
          39,
          40,
          41,
          42,
          43,
          44,
          45,
          46,
          47,
          48,
          49,
          50,
          51,
          52,
          53,
          54,
          55,
          56,
          57,
          58,
          59,
          60,
          61,
          62,
          63,
          64,
          65,
          66,
          67,
          68,
          69,
          70,
          71,
          72,
          73,
          74,
          75,
          76,
          77,
          78,
          79,
          80,
          81,
          82,
          83,
          84,
          85,
          86,
          87,
          88,
          89,
          90,
          91,
          92,
          93,
          94,
          95,
          96,
          97,
          98,
          99,
          100,
          101,
          102,
          103,
          104,
          105,
          106,
          107,
          108,
          109,
          110,
          111,
          112,
          113,
          114,
          115,
          116,
          117,
          118,
          119,
          120,
          121,
          122,
          123,
          124,
          125,
          126,
          127,
          128,
          129,
          130,
          131,
          132,
          133,
          134,
          135,
          136,
          137,
          138,
          139,
          140,
          141,
          142,
          143,
          144,
          145,
          146,
          147,
          148,
          149,
          150,
          151,
          152,
          153,
          154,
          155,
          156,
          157,
          158,
          159,
          160,
          161,
          162,
          163,
          164,
          165,
          166,
          167,
          168,
          169,
          170,
          171,
          172,
          173,
          174,
          175,
          176,
          177,
          178,
          179,
          180,
          181,
          182,
          183,
          184,
          185,
          186,
          187,
          188,
          189,
          190,
          191,
          192,
          193,
          194,
          195,
          196,
          197,
          198,
          199
         ],
         "categoryorder": "array",
         "domain": [
          0,
          1
         ],
         "matches": "x5",
         "showticklabels": false
        },
        "xaxis3": {
         "anchor": "y3",
         "categoryarray": [
          0,
          1,
          2,
          3,
          4,
          5,
          6,
          7,
          8,
          9,
          10,
          11,
          12,
          13,
          14,
          15,
          16,
          17,
          18,
          19,
          20,
          21,
          22,
          23,
          24,
          25,
          26,
          27,
          28,
          29,
          30,
          31,
          32,
          33,
          34,
          35,
          36,
          37,
          38,
          39,
          40,
          41,
          42,
          43,
          44,
          45,
          46,
          47,
          48,
          49,
          50,
          51,
          52,
          53,
          54,
          55,
          56,
          57,
          58,
          59,
          60,
          61,
          62,
          63,
          64,
          65,
          66,
          67,
          68,
          69,
          70,
          71,
          72,
          73,
          74,
          75,
          76,
          77,
          78,
          79,
          80,
          81,
          82,
          83,
          84,
          85,
          86,
          87,
          88,
          89,
          90,
          91,
          92,
          93,
          94,
          95,
          96,
          97,
          98,
          99,
          100,
          101,
          102,
          103,
          104,
          105,
          106,
          107,
          108,
          109,
          110,
          111,
          112,
          113,
          114,
          115,
          116,
          117,
          118,
          119,
          120,
          121,
          122,
          123,
          124,
          125,
          126,
          127,
          128,
          129,
          130,
          131,
          132,
          133,
          134,
          135,
          136,
          137,
          138,
          139,
          140,
          141,
          142,
          143,
          144,
          145,
          146,
          147,
          148,
          149,
          150,
          151,
          152,
          153,
          154,
          155,
          156,
          157,
          158,
          159,
          160,
          161,
          162,
          163,
          164,
          165,
          166,
          167,
          168,
          169,
          170,
          171,
          172,
          173,
          174,
          175,
          176,
          177,
          178,
          179,
          180,
          181,
          182,
          183,
          184,
          185,
          186,
          187,
          188,
          189,
          190,
          191,
          192,
          193,
          194,
          195,
          196,
          197,
          198,
          199
         ],
         "categoryorder": "array",
         "domain": [
          0,
          1
         ],
         "matches": "x5",
         "showticklabels": false
        },
        "xaxis4": {
         "anchor": "y4",
         "categoryarray": [
          0,
          1,
          2,
          3,
          4,
          5,
          6,
          7,
          8,
          9,
          10,
          11,
          12,
          13,
          14,
          15,
          16,
          17,
          18,
          19,
          20,
          21,
          22,
          23,
          24,
          25,
          26,
          27,
          28,
          29,
          30,
          31,
          32,
          33,
          34,
          35,
          36,
          37,
          38,
          39,
          40,
          41,
          42,
          43,
          44,
          45,
          46,
          47,
          48,
          49,
          50,
          51,
          52,
          53,
          54,
          55,
          56,
          57,
          58,
          59,
          60,
          61,
          62,
          63,
          64,
          65,
          66,
          67,
          68,
          69,
          70,
          71,
          72,
          73,
          74,
          75,
          76,
          77,
          78,
          79,
          80,
          81,
          82,
          83,
          84,
          85,
          86,
          87,
          88,
          89,
          90,
          91,
          92,
          93,
          94,
          95,
          96,
          97,
          98,
          99,
          100,
          101,
          102,
          103,
          104,
          105,
          106,
          107,
          108,
          109,
          110,
          111,
          112,
          113,
          114,
          115,
          116,
          117,
          118,
          119,
          120,
          121,
          122,
          123,
          124,
          125,
          126,
          127,
          128,
          129,
          130,
          131,
          132,
          133,
          134,
          135,
          136,
          137,
          138,
          139,
          140,
          141,
          142,
          143,
          144,
          145,
          146,
          147,
          148,
          149,
          150,
          151,
          152,
          153,
          154,
          155,
          156,
          157,
          158,
          159,
          160,
          161,
          162,
          163,
          164,
          165,
          166,
          167,
          168,
          169,
          170,
          171,
          172,
          173,
          174,
          175,
          176,
          177,
          178,
          179,
          180,
          181,
          182,
          183,
          184,
          185,
          186,
          187,
          188,
          189,
          190,
          191,
          192,
          193,
          194,
          195,
          196,
          197,
          198,
          199
         ],
         "categoryorder": "array",
         "domain": [
          0,
          1
         ],
         "matches": "x5",
         "showticklabels": false
        },
        "xaxis5": {
         "anchor": "y5",
         "categoryarray": [
          0,
          1,
          2,
          3,
          4,
          5,
          6,
          7,
          8,
          9,
          10,
          11,
          12,
          13,
          14,
          15,
          16,
          17,
          18,
          19,
          20,
          21,
          22,
          23,
          24,
          25,
          26,
          27,
          28,
          29,
          30,
          31,
          32,
          33,
          34,
          35,
          36,
          37,
          38,
          39,
          40,
          41,
          42,
          43,
          44,
          45,
          46,
          47,
          48,
          49,
          50,
          51,
          52,
          53,
          54,
          55,
          56,
          57,
          58,
          59,
          60,
          61,
          62,
          63,
          64,
          65,
          66,
          67,
          68,
          69,
          70,
          71,
          72,
          73,
          74,
          75,
          76,
          77,
          78,
          79,
          80,
          81,
          82,
          83,
          84,
          85,
          86,
          87,
          88,
          89,
          90,
          91,
          92,
          93,
          94,
          95,
          96,
          97,
          98,
          99,
          100,
          101,
          102,
          103,
          104,
          105,
          106,
          107,
          108,
          109,
          110,
          111,
          112,
          113,
          114,
          115,
          116,
          117,
          118,
          119,
          120,
          121,
          122,
          123,
          124,
          125,
          126,
          127,
          128,
          129,
          130,
          131,
          132,
          133,
          134,
          135,
          136,
          137,
          138,
          139,
          140,
          141,
          142,
          143,
          144,
          145,
          146,
          147,
          148,
          149,
          150,
          151,
          152,
          153,
          154,
          155,
          156,
          157,
          158,
          159,
          160,
          161,
          162,
          163,
          164,
          165,
          166,
          167,
          168,
          169,
          170,
          171,
          172,
          173,
          174,
          175,
          176,
          177,
          178,
          179,
          180,
          181,
          182,
          183,
          184,
          185,
          186,
          187,
          188,
          189,
          190,
          191,
          192,
          193,
          194,
          195,
          196,
          197,
          198,
          199
         ],
         "categoryorder": "array",
         "domain": [
          0,
          1
         ]
        },
        "yaxis": {
         "anchor": "x",
         "domain": [
          0.88,
          1
         ],
         "title": {
          "text": "Word Count"
         }
        },
        "yaxis2": {
         "anchor": "x2",
         "domain": [
          0.66,
          0.78
         ]
        },
        "yaxis3": {
         "anchor": "x3",
         "domain": [
          0.44,
          0.56
         ]
        },
        "yaxis4": {
         "anchor": "x4",
         "domain": [
          0.22,
          0.33999999999999997
         ]
        },
        "yaxis5": {
         "anchor": "x5",
         "domain": [
          0,
          0.12
         ]
        }
       }
      },
      "text/html": [
       "<div>                            <div id=\"c0d04b20-5638-4f72-aab2-1d4bde0852f5\" class=\"plotly-graph-div\" style=\"height:1250px; width:100%;\"></div>            <script type=\"text/javascript\">                require([\"plotly\"], function(Plotly) {                    window.PLOTLYENV=window.PLOTLYENV || {};                                    if (document.getElementById(\"c0d04b20-5638-4f72-aab2-1d4bde0852f5\")) {                    Plotly.newPlot(                        \"c0d04b20-5638-4f72-aab2-1d4bde0852f5\",                        [{\"customdata\":[[\"2\",1],[\"4\",5],[\"5\",15],[\"9\",5],[\"10\",6],[\"11\",21],[\"12\",1],[\"17\",3],[\"19\",10],[\"20\",2],[\"22\",4],[\"24\",4],[\"25\",2],[\"26\",6],[\"27\",22],[\"28\",5],[\"29\",3],[\"31\",17],[\"32\",2],[\"33\",1],[\"34\",5],[\"35\",3],[\"36\",3],[\"37\",11],[\"38\",2],[\"41\",1],[\"42\",7],[\"43\",7],[\"44\",16],[\"45\",10],[\"46\",7],[\"47\",7],[\"48\",7],[\"49\",6],[\"50\",14]],\"hovertemplate\":\"Chapter: %{customdata[0]}<br>Word Count: %{customdata[1]}\",\"x\":[\"2\",\"4\",\"5\",\"9\",\"10\",\"11\",\"12\",\"17\",\"19\",\"20\",\"22\",\"24\",\"25\",\"26\",\"27\",\"28\",\"29\",\"31\",\"32\",\"33\",\"34\",\"35\",\"36\",\"37\",\"38\",\"41\",\"42\",\"43\",\"44\",\"45\",\"46\",\"47\",\"48\",\"49\",\"50\"],\"y\":[1,5,15,5,6,21,1,3,10,2,4,4,2,6,22,5,3,17,2,1,5,3,3,11,2,1,7,7,16,10,7,7,7,6,14],\"type\":\"bar\",\"xaxis\":\"x\",\"yaxis\":\"y\"},{\"customdata\":[[\"1\",7],[\"2\",42],[\"4\",21],[\"5\",1],[\"6\",21],[\"7\",4],[\"8\",12],[\"9\",10],[\"14\",1],[\"17\",1],[\"19\",3],[\"22\",1],[\"24\",1],[\"25\",1],[\"26\",2],[\"28\",3],[\"29\",2]],\"hovertemplate\":\"Chapter: %{customdata[0]}<br>Word Count: %{customdata[1]}\",\"x\":[\"1\",\"2\",\"4\",\"5\",\"6\",\"7\",\"8\",\"9\",\"14\",\"17\",\"19\",\"22\",\"24\",\"25\",\"26\",\"28\",\"29\"],\"y\":[7,42,21,1,21,4,12,10,1,1,3,1,1,1,2,3,2],\"type\":\"bar\",\"xaxis\":\"x2\",\"yaxis\":\"y2\"},{\"customdata\":[[\"1\",2],[\"2\",1],[\"3\",1],[\"4\",5],[\"5\",15],[\"6\",12],[\"8\",19],[\"10\",13],[\"11\",1],[\"12\",4],[\"13\",2],[\"14\",23],[\"15\",10],[\"16\",11],[\"17\",6],[\"18\",1],[\"20\",4]],\"hovertemplate\":\"Chapter: %{customdata[0]}<br>Word Count: %{customdata[1]}\",\"x\":[\"1\",\"2\",\"3\",\"4\",\"5\",\"6\",\"8\",\"10\",\"11\",\"12\",\"13\",\"14\",\"15\",\"16\",\"17\",\"18\",\"20\"],\"y\":[2,1,1,5,15,12,19,13,1,4,2,23,10,11,6,1,4],\"type\":\"bar\",\"xaxis\":\"x3\",\"yaxis\":\"y3\"},{\"customdata\":[[\"1\",39],[\"2\",1],[\"3\",1],[\"4\",2],[\"5\",3],[\"6\",12],[\"7\",2],[\"8\",1],[\"10\",7],[\"11\",5],[\"12\",1],[\"13\",1],[\"15\",5],[\"16\",2],[\"18\",4],[\"19\",3],[\"20\",1],[\"21\",2],[\"23\",1],[\"24\",1],[\"25\",1],[\"26\",4],[\"28\",1]],\"hovertemplate\":\"Chapter: %{customdata[0]}<br>Word Count: %{customdata[1]}\",\"x\":[\"1\",\"2\",\"3\",\"4\",\"5\",\"6\",\"7\",\"8\",\"10\",\"11\",\"12\",\"13\",\"15\",\"16\",\"18\",\"19\",\"20\",\"21\",\"23\",\"24\",\"25\",\"26\",\"28\"],\"y\":[39,1,1,2,3,12,2,1,7,5,1,1,5,2,4,3,1,2,1,1,1,4,1],\"type\":\"bar\",\"xaxis\":\"x4\",\"yaxis\":\"y4\"},{\"customdata\":[[\"1\",1],[\"2\",7],[\"3\",4],[\"5\",3],[\"6\",1],[\"7\",2],[\"8\",7],[\"9\",2],[\"11\",7],[\"12\",9],[\"13\",2],[\"15\",7],[\"18\",1],[\"19\",1],[\"20\",3],[\"22\",5]],\"hovertemplate\":\"Chapter: %{customdata[0]}<br>Word Count: %{customdata[1]}\",\"x\":[\"1\",\"2\",\"3\",\"5\",\"6\",\"7\",\"8\",\"9\",\"11\",\"12\",\"13\",\"15\",\"18\",\"19\",\"20\",\"22\"],\"y\":[1,7,4,3,1,2,7,2,7,9,2,7,1,1,3,5],\"type\":\"bar\",\"xaxis\":\"x5\",\"yaxis\":\"y5\"}],                        {\"template\":{\"data\":{\"histogram2dcontour\":[{\"type\":\"histogram2dcontour\",\"colorbar\":{\"outlinewidth\":0,\"ticks\":\"\"},\"colorscale\":[[0.0,\"#0d0887\"],[0.1111111111111111,\"#46039f\"],[0.2222222222222222,\"#7201a8\"],[0.3333333333333333,\"#9c179e\"],[0.4444444444444444,\"#bd3786\"],[0.5555555555555556,\"#d8576b\"],[0.6666666666666666,\"#ed7953\"],[0.7777777777777778,\"#fb9f3a\"],[0.8888888888888888,\"#fdca26\"],[1.0,\"#f0f921\"]]}],\"choropleth\":[{\"type\":\"choropleth\",\"colorbar\":{\"outlinewidth\":0,\"ticks\":\"\"}}],\"histogram2d\":[{\"type\":\"histogram2d\",\"colorbar\":{\"outlinewidth\":0,\"ticks\":\"\"},\"colorscale\":[[0.0,\"#0d0887\"],[0.1111111111111111,\"#46039f\"],[0.2222222222222222,\"#7201a8\"],[0.3333333333333333,\"#9c179e\"],[0.4444444444444444,\"#bd3786\"],[0.5555555555555556,\"#d8576b\"],[0.6666666666666666,\"#ed7953\"],[0.7777777777777778,\"#fb9f3a\"],[0.8888888888888888,\"#fdca26\"],[1.0,\"#f0f921\"]]}],\"heatmap\":[{\"type\":\"heatmap\",\"colorbar\":{\"outlinewidth\":0,\"ticks\":\"\"},\"colorscale\":[[0.0,\"#0d0887\"],[0.1111111111111111,\"#46039f\"],[0.2222222222222222,\"#7201a8\"],[0.3333333333333333,\"#9c179e\"],[0.4444444444444444,\"#bd3786\"],[0.5555555555555556,\"#d8576b\"],[0.6666666666666666,\"#ed7953\"],[0.7777777777777778,\"#fb9f3a\"],[0.8888888888888888,\"#fdca26\"],[1.0,\"#f0f921\"]]}],\"heatmapgl\":[{\"type\":\"heatmapgl\",\"colorbar\":{\"outlinewidth\":0,\"ticks\":\"\"},\"colorscale\":[[0.0,\"#0d0887\"],[0.1111111111111111,\"#46039f\"],[0.2222222222222222,\"#7201a8\"],[0.3333333333333333,\"#9c179e\"],[0.4444444444444444,\"#bd3786\"],[0.5555555555555556,\"#d8576b\"],[0.6666666666666666,\"#ed7953\"],[0.7777777777777778,\"#fb9f3a\"],[0.8888888888888888,\"#fdca26\"],[1.0,\"#f0f921\"]]}],\"contourcarpet\":[{\"type\":\"contourcarpet\",\"colorbar\":{\"outlinewidth\":0,\"ticks\":\"\"}}],\"contour\":[{\"type\":\"contour\",\"colorbar\":{\"outlinewidth\":0,\"ticks\":\"\"},\"colorscale\":[[0.0,\"#0d0887\"],[0.1111111111111111,\"#46039f\"],[0.2222222222222222,\"#7201a8\"],[0.3333333333333333,\"#9c179e\"],[0.4444444444444444,\"#bd3786\"],[0.5555555555555556,\"#d8576b\"],[0.6666666666666666,\"#ed7953\"],[0.7777777777777778,\"#fb9f3a\"],[0.8888888888888888,\"#fdca26\"],[1.0,\"#f0f921\"]]}],\"surface\":[{\"type\":\"surface\",\"colorbar\":{\"outlinewidth\":0,\"ticks\":\"\"},\"colorscale\":[[0.0,\"#0d0887\"],[0.1111111111111111,\"#46039f\"],[0.2222222222222222,\"#7201a8\"],[0.3333333333333333,\"#9c179e\"],[0.4444444444444444,\"#bd3786\"],[0.5555555555555556,\"#d8576b\"],[0.6666666666666666,\"#ed7953\"],[0.7777777777777778,\"#fb9f3a\"],[0.8888888888888888,\"#fdca26\"],[1.0,\"#f0f921\"]]}],\"mesh3d\":[{\"type\":\"mesh3d\",\"colorbar\":{\"outlinewidth\":0,\"ticks\":\"\"}}],\"scatter\":[{\"fillpattern\":{\"fillmode\":\"overlay\",\"size\":10,\"solidity\":0.2},\"type\":\"scatter\"}],\"parcoords\":[{\"type\":\"parcoords\",\"line\":{\"colorbar\":{\"outlinewidth\":0,\"ticks\":\"\"}}}],\"scatterpolargl\":[{\"type\":\"scatterpolargl\",\"marker\":{\"colorbar\":{\"outlinewidth\":0,\"ticks\":\"\"}}}],\"bar\":[{\"error_x\":{\"color\":\"#2a3f5f\"},\"error_y\":{\"color\":\"#2a3f5f\"},\"marker\":{\"line\":{\"color\":\"#E5ECF6\",\"width\":0.5},\"pattern\":{\"fillmode\":\"overlay\",\"size\":10,\"solidity\":0.2}},\"type\":\"bar\"}],\"scattergeo\":[{\"type\":\"scattergeo\",\"marker\":{\"colorbar\":{\"outlinewidth\":0,\"ticks\":\"\"}}}],\"scatterpolar\":[{\"type\":\"scatterpolar\",\"marker\":{\"colorbar\":{\"outlinewidth\":0,\"ticks\":\"\"}}}],\"histogram\":[{\"marker\":{\"pattern\":{\"fillmode\":\"overlay\",\"size\":10,\"solidity\":0.2}},\"type\":\"histogram\"}],\"scattergl\":[{\"type\":\"scattergl\",\"marker\":{\"colorbar\":{\"outlinewidth\":0,\"ticks\":\"\"}}}],\"scatter3d\":[{\"type\":\"scatter3d\",\"line\":{\"colorbar\":{\"outlinewidth\":0,\"ticks\":\"\"}},\"marker\":{\"colorbar\":{\"outlinewidth\":0,\"ticks\":\"\"}}}],\"scattermapbox\":[{\"type\":\"scattermapbox\",\"marker\":{\"colorbar\":{\"outlinewidth\":0,\"ticks\":\"\"}}}],\"scatterternary\":[{\"type\":\"scatterternary\",\"marker\":{\"colorbar\":{\"outlinewidth\":0,\"ticks\":\"\"}}}],\"scattercarpet\":[{\"type\":\"scattercarpet\",\"marker\":{\"colorbar\":{\"outlinewidth\":0,\"ticks\":\"\"}}}],\"carpet\":[{\"aaxis\":{\"endlinecolor\":\"#2a3f5f\",\"gridcolor\":\"white\",\"linecolor\":\"white\",\"minorgridcolor\":\"white\",\"startlinecolor\":\"#2a3f5f\"},\"baxis\":{\"endlinecolor\":\"#2a3f5f\",\"gridcolor\":\"white\",\"linecolor\":\"white\",\"minorgridcolor\":\"white\",\"startlinecolor\":\"#2a3f5f\"},\"type\":\"carpet\"}],\"table\":[{\"cells\":{\"fill\":{\"color\":\"#EBF0F8\"},\"line\":{\"color\":\"white\"}},\"header\":{\"fill\":{\"color\":\"#C8D4E3\"},\"line\":{\"color\":\"white\"}},\"type\":\"table\"}],\"barpolar\":[{\"marker\":{\"line\":{\"color\":\"#E5ECF6\",\"width\":0.5},\"pattern\":{\"fillmode\":\"overlay\",\"size\":10,\"solidity\":0.2}},\"type\":\"barpolar\"}],\"pie\":[{\"automargin\":true,\"type\":\"pie\"}]},\"layout\":{\"autotypenumbers\":\"strict\",\"colorway\":[\"#636efa\",\"#EF553B\",\"#00cc96\",\"#ab63fa\",\"#FFA15A\",\"#19d3f3\",\"#FF6692\",\"#B6E880\",\"#FF97FF\",\"#FECB52\"],\"font\":{\"color\":\"#2a3f5f\"},\"hovermode\":\"closest\",\"hoverlabel\":{\"align\":\"left\"},\"paper_bgcolor\":\"white\",\"plot_bgcolor\":\"#E5ECF6\",\"polar\":{\"bgcolor\":\"#E5ECF6\",\"angularaxis\":{\"gridcolor\":\"white\",\"linecolor\":\"white\",\"ticks\":\"\"},\"radialaxis\":{\"gridcolor\":\"white\",\"linecolor\":\"white\",\"ticks\":\"\"}},\"ternary\":{\"bgcolor\":\"#E5ECF6\",\"aaxis\":{\"gridcolor\":\"white\",\"linecolor\":\"white\",\"ticks\":\"\"},\"baxis\":{\"gridcolor\":\"white\",\"linecolor\":\"white\",\"ticks\":\"\"},\"caxis\":{\"gridcolor\":\"white\",\"linecolor\":\"white\",\"ticks\":\"\"}},\"coloraxis\":{\"colorbar\":{\"outlinewidth\":0,\"ticks\":\"\"}},\"colorscale\":{\"sequential\":[[0.0,\"#0d0887\"],[0.1111111111111111,\"#46039f\"],[0.2222222222222222,\"#7201a8\"],[0.3333333333333333,\"#9c179e\"],[0.4444444444444444,\"#bd3786\"],[0.5555555555555556,\"#d8576b\"],[0.6666666666666666,\"#ed7953\"],[0.7777777777777778,\"#fb9f3a\"],[0.8888888888888888,\"#fdca26\"],[1.0,\"#f0f921\"]],\"sequentialminus\":[[0.0,\"#0d0887\"],[0.1111111111111111,\"#46039f\"],[0.2222222222222222,\"#7201a8\"],[0.3333333333333333,\"#9c179e\"],[0.4444444444444444,\"#bd3786\"],[0.5555555555555556,\"#d8576b\"],[0.6666666666666666,\"#ed7953\"],[0.7777777777777778,\"#fb9f3a\"],[0.8888888888888888,\"#fdca26\"],[1.0,\"#f0f921\"]],\"diverging\":[[0,\"#8e0152\"],[0.1,\"#c51b7d\"],[0.2,\"#de77ae\"],[0.3,\"#f1b6da\"],[0.4,\"#fde0ef\"],[0.5,\"#f7f7f7\"],[0.6,\"#e6f5d0\"],[0.7,\"#b8e186\"],[0.8,\"#7fbc41\"],[0.9,\"#4d9221\"],[1,\"#276419\"]]},\"xaxis\":{\"gridcolor\":\"white\",\"linecolor\":\"white\",\"ticks\":\"\",\"title\":{\"standoff\":15},\"zerolinecolor\":\"white\",\"automargin\":true,\"zerolinewidth\":2},\"yaxis\":{\"gridcolor\":\"white\",\"linecolor\":\"white\",\"ticks\":\"\",\"title\":{\"standoff\":15},\"zerolinecolor\":\"white\",\"automargin\":true,\"zerolinewidth\":2},\"scene\":{\"xaxis\":{\"backgroundcolor\":\"#E5ECF6\",\"gridcolor\":\"white\",\"linecolor\":\"white\",\"showbackground\":true,\"ticks\":\"\",\"zerolinecolor\":\"white\",\"gridwidth\":2},\"yaxis\":{\"backgroundcolor\":\"#E5ECF6\",\"gridcolor\":\"white\",\"linecolor\":\"white\",\"showbackground\":true,\"ticks\":\"\",\"zerolinecolor\":\"white\",\"gridwidth\":2},\"zaxis\":{\"backgroundcolor\":\"#E5ECF6\",\"gridcolor\":\"white\",\"linecolor\":\"white\",\"showbackground\":true,\"ticks\":\"\",\"zerolinecolor\":\"white\",\"gridwidth\":2}},\"shapedefaults\":{\"line\":{\"color\":\"#2a3f5f\"}},\"annotationdefaults\":{\"arrowcolor\":\"#2a3f5f\",\"arrowhead\":0,\"arrowwidth\":1},\"geo\":{\"bgcolor\":\"white\",\"landcolor\":\"#E5ECF6\",\"subunitcolor\":\"white\",\"showland\":true,\"showlakes\":true,\"lakecolor\":\"white\"},\"title\":{\"x\":0.05},\"mapbox\":{\"style\":\"light\"}}},\"xaxis\":{\"anchor\":\"y\",\"domain\":[0.0,1.0],\"matches\":\"x5\",\"showticklabels\":false,\"title\":{\"text\":\"Chapters\"},\"categoryorder\":\"array\",\"categoryarray\":[0,1,2,3,4,5,6,7,8,9,10,11,12,13,14,15,16,17,18,19,20,21,22,23,24,25,26,27,28,29,30,31,32,33,34,35,36,37,38,39,40,41,42,43,44,45,46,47,48,49,50,51,52,53,54,55,56,57,58,59,60,61,62,63,64,65,66,67,68,69,70,71,72,73,74,75,76,77,78,79,80,81,82,83,84,85,86,87,88,89,90,91,92,93,94,95,96,97,98,99,100,101,102,103,104,105,106,107,108,109,110,111,112,113,114,115,116,117,118,119,120,121,122,123,124,125,126,127,128,129,130,131,132,133,134,135,136,137,138,139,140,141,142,143,144,145,146,147,148,149,150,151,152,153,154,155,156,157,158,159,160,161,162,163,164,165,166,167,168,169,170,171,172,173,174,175,176,177,178,179,180,181,182,183,184,185,186,187,188,189,190,191,192,193,194,195,196,197,198,199]},\"yaxis\":{\"anchor\":\"x\",\"domain\":[0.88,1.0],\"title\":{\"text\":\"Word Count\"}},\"xaxis2\":{\"anchor\":\"y2\",\"domain\":[0.0,1.0],\"matches\":\"x5\",\"showticklabels\":false,\"categoryorder\":\"array\",\"categoryarray\":[0,1,2,3,4,5,6,7,8,9,10,11,12,13,14,15,16,17,18,19,20,21,22,23,24,25,26,27,28,29,30,31,32,33,34,35,36,37,38,39,40,41,42,43,44,45,46,47,48,49,50,51,52,53,54,55,56,57,58,59,60,61,62,63,64,65,66,67,68,69,70,71,72,73,74,75,76,77,78,79,80,81,82,83,84,85,86,87,88,89,90,91,92,93,94,95,96,97,98,99,100,101,102,103,104,105,106,107,108,109,110,111,112,113,114,115,116,117,118,119,120,121,122,123,124,125,126,127,128,129,130,131,132,133,134,135,136,137,138,139,140,141,142,143,144,145,146,147,148,149,150,151,152,153,154,155,156,157,158,159,160,161,162,163,164,165,166,167,168,169,170,171,172,173,174,175,176,177,178,179,180,181,182,183,184,185,186,187,188,189,190,191,192,193,194,195,196,197,198,199]},\"yaxis2\":{\"anchor\":\"x2\",\"domain\":[0.66,0.78]},\"xaxis3\":{\"anchor\":\"y3\",\"domain\":[0.0,1.0],\"matches\":\"x5\",\"showticklabels\":false,\"categoryorder\":\"array\",\"categoryarray\":[0,1,2,3,4,5,6,7,8,9,10,11,12,13,14,15,16,17,18,19,20,21,22,23,24,25,26,27,28,29,30,31,32,33,34,35,36,37,38,39,40,41,42,43,44,45,46,47,48,49,50,51,52,53,54,55,56,57,58,59,60,61,62,63,64,65,66,67,68,69,70,71,72,73,74,75,76,77,78,79,80,81,82,83,84,85,86,87,88,89,90,91,92,93,94,95,96,97,98,99,100,101,102,103,104,105,106,107,108,109,110,111,112,113,114,115,116,117,118,119,120,121,122,123,124,125,126,127,128,129,130,131,132,133,134,135,136,137,138,139,140,141,142,143,144,145,146,147,148,149,150,151,152,153,154,155,156,157,158,159,160,161,162,163,164,165,166,167,168,169,170,171,172,173,174,175,176,177,178,179,180,181,182,183,184,185,186,187,188,189,190,191,192,193,194,195,196,197,198,199]},\"yaxis3\":{\"anchor\":\"x3\",\"domain\":[0.44,0.56]},\"xaxis4\":{\"anchor\":\"y4\",\"domain\":[0.0,1.0],\"matches\":\"x5\",\"showticklabels\":false,\"categoryorder\":\"array\",\"categoryarray\":[0,1,2,3,4,5,6,7,8,9,10,11,12,13,14,15,16,17,18,19,20,21,22,23,24,25,26,27,28,29,30,31,32,33,34,35,36,37,38,39,40,41,42,43,44,45,46,47,48,49,50,51,52,53,54,55,56,57,58,59,60,61,62,63,64,65,66,67,68,69,70,71,72,73,74,75,76,77,78,79,80,81,82,83,84,85,86,87,88,89,90,91,92,93,94,95,96,97,98,99,100,101,102,103,104,105,106,107,108,109,110,111,112,113,114,115,116,117,118,119,120,121,122,123,124,125,126,127,128,129,130,131,132,133,134,135,136,137,138,139,140,141,142,143,144,145,146,147,148,149,150,151,152,153,154,155,156,157,158,159,160,161,162,163,164,165,166,167,168,169,170,171,172,173,174,175,176,177,178,179,180,181,182,183,184,185,186,187,188,189,190,191,192,193,194,195,196,197,198,199]},\"yaxis4\":{\"anchor\":\"x4\",\"domain\":[0.22,0.33999999999999997]},\"xaxis5\":{\"anchor\":\"y5\",\"domain\":[0.0,1.0],\"categoryorder\":\"array\",\"categoryarray\":[0,1,2,3,4,5,6,7,8,9,10,11,12,13,14,15,16,17,18,19,20,21,22,23,24,25,26,27,28,29,30,31,32,33,34,35,36,37,38,39,40,41,42,43,44,45,46,47,48,49,50,51,52,53,54,55,56,57,58,59,60,61,62,63,64,65,66,67,68,69,70,71,72,73,74,75,76,77,78,79,80,81,82,83,84,85,86,87,88,89,90,91,92,93,94,95,96,97,98,99,100,101,102,103,104,105,106,107,108,109,110,111,112,113,114,115,116,117,118,119,120,121,122,123,124,125,126,127,128,129,130,131,132,133,134,135,136,137,138,139,140,141,142,143,144,145,146,147,148,149,150,151,152,153,154,155,156,157,158,159,160,161,162,163,164,165,166,167,168,169,170,171,172,173,174,175,176,177,178,179,180,181,182,183,184,185,186,187,188,189,190,191,192,193,194,195,196,197,198,199]},\"yaxis5\":{\"anchor\":\"x5\",\"domain\":[0.0,0.12]},\"annotations\":[{\"font\":{\"size\":16},\"showarrow\":false,\"text\":\"Genesis - 241 times\",\"x\":0.5,\"xanchor\":\"center\",\"xref\":\"paper\",\"y\":1.0,\"yanchor\":\"bottom\",\"yref\":\"paper\"},{\"font\":{\"size\":16},\"showarrow\":false,\"text\":\"1 Chronicles - 133 times\",\"x\":0.5,\"xanchor\":\"center\",\"xref\":\"paper\",\"y\":0.78,\"yanchor\":\"bottom\",\"yref\":\"paper\"},{\"font\":{\"size\":16},\"showarrow\":false,\"text\":\"John - 130 times\",\"x\":0.5,\"xanchor\":\"center\",\"xref\":\"paper\",\"y\":0.56,\"yanchor\":\"bottom\",\"yref\":\"paper\"},{\"font\":{\"size\":16},\"showarrow\":false,\"text\":\"Matthew - 100 times\",\"x\":0.5,\"xanchor\":\"center\",\"xref\":\"paper\",\"y\":0.33999999999999997,\"yanchor\":\"bottom\",\"yref\":\"paper\"},{\"font\":{\"size\":16},\"showarrow\":false,\"text\":\"1 Kings - 62 times\",\"x\":0.5,\"xanchor\":\"center\",\"xref\":\"paper\",\"y\":0.12,\"yanchor\":\"bottom\",\"yref\":\"paper\"}],\"title\":{\"text\":\"Chapterwise Combined Counts for words - father\"},\"height\":1250,\"showlegend\":false},                        {\"responsive\": true}                    ).then(function(){\n",
       "                            \n",
       "var gd = document.getElementById('c0d04b20-5638-4f72-aab2-1d4bde0852f5');\n",
       "var x = new MutationObserver(function (mutations, observer) {{\n",
       "        var display = window.getComputedStyle(gd).display;\n",
       "        if (!display || display === 'none') {{\n",
       "            console.log([gd, 'removed!']);\n",
       "            Plotly.purge(gd);\n",
       "            observer.disconnect();\n",
       "        }}\n",
       "}});\n",
       "\n",
       "// Listen for the removal of the full notebook cells\n",
       "var notebookContainer = gd.closest('#notebook-container');\n",
       "if (notebookContainer) {{\n",
       "    x.observe(notebookContainer, {childList: true});\n",
       "}}\n",
       "\n",
       "// Listen for the clearing of the current output cell\n",
       "var outputEl = gd.closest('.output');\n",
       "if (outputEl) {{\n",
       "    x.observe(outputEl, {childList: true});\n",
       "}}\n",
       "\n",
       "                        })                };                });            </script>        </div>"
      ]
     },
     "metadata": {},
     "output_type": "display_data"
    }
   ],
   "source": [
    "\n",
    "# Chapter-wise word count\n",
    "def chapter_wise(words,books):\n",
    "    new_refs = defaultdict(lambda:defaultdict(int))\n",
    "    for word in words:\n",
    "        refs = corpus.get(word,[])\n",
    "        for ref in refs:\n",
    "            if ref[0] in books:\n",
    "                new_refs[ref[0]][ref[1]]+=1\n",
    "    return new_refs\n",
    "\n",
    "# Picking top 5 books\n",
    "books_with_words = [thing[0] for thing in sorted(all_counts.items(),key=lambda x:x[1],reverse=True)][:5]\n",
    "# books_with_words = [\"Matthew\",\"2 John\",\"Acts\",\"Luke\"]\n",
    "chap_refs = chapter_wise(words,books_with_words) # {\"Genesis\":{\"1\":30,\"2\":20...},\"Exodus\":{...}...}\n",
    "\n",
    "fig = make_subplots(rows=len(chap_refs), cols=1, shared_xaxes=True, subplot_titles=[f\"{book} - {sum(chap_refs[book].values())} times\" for book in books_with_words])\n",
    "for row,book in enumerate(books_with_words):\n",
    "    x,y = zip(*chap_refs[book].items())\n",
    "    fig.add_trace(go.Bar(x=x,y=y,customdata=list(zip(x,y)),hovertemplate=\"Chapter: %{customdata[0]}<br>Word Count: %{customdata[1]}\"),row=row + 1, col=1)\n",
    "\n",
    "fig.update_layout(\n",
    "    height=len(chap_refs) * 250,\n",
    "    title_text=\"Chapterwise Combined Counts for words - \" + (\", \".join(words)),\n",
    "    yaxis_title=\"Word Count\",\n",
    "    xaxis_title=\"Chapters\",\n",
    "    showlegend=False\n",
    ")\n",
    "\n",
    "fig.update_xaxes(categoryorder=\"array\", categoryarray=tuple(range(200))) # Hack for now\n",
    "\n",
    "fig.show()\n"
   ]
  },
  {
   "cell_type": "code",
   "execution_count": null,
   "metadata": {},
   "outputs": [],
   "source": [
    "from tabulate import tabulate\n",
    "\n",
    "one_words = []\n",
    "for w,refs in corpus.items():\n",
    "    if len(refs)==1:\n",
    "        one_words.append((w,refs[0]))\n",
    "print(tabulate(sorted(one_words)))\n",
    "\n",
    "freq = defaultdict(int)\n",
    "for word,ref in one_words:\n",
    "    freq[ref[0]]+=1\n",
    "\n",
    "#print(sorted(list(freq.items()),key=lambda x:x[1],reverse=True))\n",
    "\n",
    "x,y = zip(*freq.items())\n",
    "fig = px.bar(x=x,y=y,title=\"Books with unique words\",labels={'y': 'Number of unique words', 'x':'books'})\n",
    "fig.show()"
   ]
  },
  {
   "cell_type": "code",
   "execution_count": null,
   "metadata": {},
   "outputs": [],
   "source": []
  }
 ],
 "metadata": {
  "kernelspec": {
   "display_name": "Python 3.9.13 64-bit",
   "language": "python",
   "name": "python3"
  },
  "language_info": {
   "codemirror_mode": {
    "name": "ipython",
    "version": 3
   },
   "file_extension": ".py",
   "mimetype": "text/x-python",
   "name": "python",
   "nbconvert_exporter": "python",
   "pygments_lexer": "ipython3",
   "version": "3.9.13"
  },
  "orig_nbformat": 4,
  "vscode": {
   "interpreter": {
    "hash": "0f28ba364698f120006e75a1a9a988d1ffd226441285a0dc625e9d69ba0688d8"
   }
  }
 },
 "nbformat": 4,
 "nbformat_minor": 2
}
